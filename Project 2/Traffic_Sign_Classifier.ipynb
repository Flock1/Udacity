{
 "cells": [
  {
   "cell_type": "markdown",
   "metadata": {
    "deletable": true,
    "editable": true
   },
   "source": [
    "# Self-Driving Car Engineer Nanodegree\n",
    "\n",
    "## Deep Learning\n",
    "\n",
    "## Project: Build a Traffic Sign Recognition Classifier\n",
    "\n",
    "In this notebook, a template is provided for you to implement your functionality in stages, which is required to successfully complete this project. If additional code is required that cannot be included in the notebook, be sure that the Python code is successfully imported and included in your submission if necessary. \n",
    "\n",
    "> **Note**: Once you have completed all of the code implementations, you need to finalize your work by exporting the iPython Notebook as an HTML document. Before exporting the notebook to html, all of the code cells need to have been run so that reviewers can see the final implementation and output. You can then export the notebook by using the menu above and navigating to  \\n\",\n",
    "    \"**File -> Download as -> HTML (.html)**. Include the finished document along with this notebook as your submission. \n",
    "\n",
    "In addition to implementing code, there is a writeup to complete. The writeup should be completed in a separate file, which can be either a markdown file or a pdf document. There is a [write up template](https://github.com/udacity/CarND-Traffic-Sign-Classifier-Project/blob/master/writeup_template.md) that can be used to guide the writing process. Completing the code template and writeup template will cover all of the [rubric points](https://review.udacity.com/#!/rubrics/481/view) for this project.\n",
    "\n",
    "The [rubric](https://review.udacity.com/#!/rubrics/481/view) contains \"Stand Out Suggestions\" for enhancing the project beyond the minimum requirements. The stand out suggestions are optional. If you decide to pursue the \"stand out suggestions\", you can include the code in this Ipython notebook and also discuss the results in the writeup file.\n",
    "\n",
    "\n",
    ">**Note:** Code and Markdown cells can be executed using the **Shift + Enter** keyboard shortcut. In addition, Markdown cells can be edited by typically double-clicking the cell to enter edit mode."
   ]
  },
  {
   "cell_type": "markdown",
   "metadata": {
    "deletable": true,
    "editable": true
   },
   "source": [
    "---\n",
    "## Step 0: Load The Data"
   ]
  },
  {
   "cell_type": "code",
   "execution_count": 1,
   "metadata": {
    "collapsed": false,
    "deletable": true,
    "editable": true
   },
   "outputs": [],
   "source": [
    "# Load pickled data\n",
    "import pickle\n",
    "import os\n",
    "from sklearn.model_selection import train_test_split\n",
    "# TODO: Fill this in based on where you saved the training and testing data\n",
    "\n",
    "training_file = os.path.abspath(\"traffic-signs-data/train.p\")\n",
    "validation_file = os.path.abspath(\"traffic-signs-data/valid.p\")\n",
    "testing_file = os.path.abspath(\"traffic-signs-data/test.p\")\n",
    "\n",
    "with open(training_file, mode='rb') as f:\n",
    "    train = pickle.load(f)\n",
    "with open(validation_file, mode='rb') as f:\n",
    "    valid = pickle.load(f)\n",
    "with open(testing_file, mode='rb') as f:\n",
    "    test = pickle.load(f)\n",
    "    \n",
    "X_train, y_train = train['features'], train['labels']\n",
    "#X_valid, y_valid = valid['features'], valid['labels']\n",
    "X_test, y_test = test['features'], test['labels']"
   ]
  },
  {
   "cell_type": "code",
   "execution_count": 2,
   "metadata": {
    "collapsed": true,
    "deletable": true,
    "editable": true
   },
   "outputs": [],
   "source": [
    "#X_train, X_valid, y_train, y_valid = train_test_split(X_train, y_train, test_size = 0.2, random_state=0)"
   ]
  },
  {
   "cell_type": "code",
   "execution_count": 3,
   "metadata": {
    "collapsed": false,
    "deletable": true,
    "editable": true
   },
   "outputs": [
    {
     "data": {
      "text/plain": [
       "34799"
      ]
     },
     "execution_count": 3,
     "metadata": {},
     "output_type": "execute_result"
    }
   ],
   "source": [
    "len(X_train)"
   ]
  },
  {
   "cell_type": "code",
   "execution_count": 4,
   "metadata": {
    "collapsed": false,
    "deletable": true,
    "editable": true
   },
   "outputs": [
    {
     "data": {
      "text/plain": [
       "34799"
      ]
     },
     "execution_count": 4,
     "metadata": {},
     "output_type": "execute_result"
    }
   ],
   "source": [
    "len(y_train)"
   ]
  },
  {
   "cell_type": "code",
   "execution_count": 5,
   "metadata": {
    "collapsed": false,
    "deletable": true,
    "editable": true
   },
   "outputs": [
    {
     "name": "stdout",
     "output_type": "stream",
     "text": [
      "/Users/sarvagyagupta1/Desktop/College/SJSU/Spring_2017/udacity/2/CarND-Traffic-Sign-Classifier-Project-master/2/CarND-Traffic-Sign-Classifier-Project-master/traffic-signs-data/test.p\n"
     ]
    }
   ],
   "source": [
    "import os\n",
    "os.getcwd()\n",
    "file = (os.path.abspath(\"2/CarND-Traffic-Sign-Classifier-Project-master/traffic-signs-data/test.p\"))\n",
    "print(file)"
   ]
  },
  {
   "cell_type": "code",
   "execution_count": 6,
   "metadata": {
    "collapsed": false,
    "deletable": true,
    "editable": true
   },
   "outputs": [
    {
     "data": {
      "text/plain": [
       "numpy.ndarray"
      ]
     },
     "execution_count": 6,
     "metadata": {},
     "output_type": "execute_result"
    }
   ],
   "source": [
    "type(valid['features'])"
   ]
  },
  {
   "cell_type": "code",
   "execution_count": 7,
   "metadata": {
    "collapsed": false,
    "deletable": true,
    "editable": true
   },
   "outputs": [
    {
     "name": "stdout",
     "output_type": "stream",
     "text": [
      "34799\n",
      "34799\n"
     ]
    }
   ],
   "source": [
    "print(len(X_train)) \n",
    "print(len(y_train)) "
   ]
  },
  {
   "cell_type": "code",
   "execution_count": 8,
   "metadata": {
    "collapsed": false,
    "deletable": true,
    "editable": true
   },
   "outputs": [
    {
     "data": {
      "text/plain": [
       "(32, 32, 3)"
      ]
     },
     "execution_count": 8,
     "metadata": {},
     "output_type": "execute_result"
    }
   ],
   "source": [
    "X_train[0].shape"
   ]
  },
  {
   "cell_type": "markdown",
   "metadata": {
    "deletable": true,
    "editable": true
   },
   "source": [
    "---\n",
    "\n",
    "## Step 1: Dataset Summary & Exploration\n",
    "\n",
    "The pickled data is a dictionary with 4 key/value pairs:\n",
    "\n",
    "- `'features'` is a 4D array containing raw pixel data of the traffic sign images, (num examples, width, height, channels).\n",
    "- `'labels'` is a 1D array containing the label/class id of the traffic sign. The file `signnames.csv` contains id -> name mappings for each id.\n",
    "- `'sizes'` is a list containing tuples, (width, height) representing the original width and height the image.\n",
    "- `'coords'` is a list containing tuples, (x1, y1, x2, y2) representing coordinates of a bounding box around the sign in the image. **THESE COORDINATES ASSUME THE ORIGINAL IMAGE. THE PICKLED DATA CONTAINS RESIZED VERSIONS (32 by 32) OF THESE IMAGES**\n",
    "\n",
    "Complete the basic data summary below. Use python, numpy and/or pandas methods to calculate the data summary rather than hard coding the results. For example, the [pandas shape method](http://pandas.pydata.org/pandas-docs/stable/generated/pandas.DataFrame.shape.html) might be useful for calculating some of the summary results. "
   ]
  },
  {
   "cell_type": "markdown",
   "metadata": {
    "deletable": true,
    "editable": true
   },
   "source": [
    "### Provide a Basic Summary of the Data Set Using Python, Numpy and/or Pandas"
   ]
  },
  {
   "cell_type": "code",
   "execution_count": 9,
   "metadata": {
    "collapsed": false,
    "deletable": true,
    "editable": true
   },
   "outputs": [
    {
     "data": {
      "text/plain": [
       "43"
      ]
     },
     "execution_count": 9,
     "metadata": {},
     "output_type": "execute_result"
    }
   ],
   "source": [
    "import pandas\n",
    "max(train['labels']) + 1\n",
    "#pandas.DataFrame.shape(test)"
   ]
  },
  {
   "cell_type": "code",
   "execution_count": 10,
   "metadata": {
    "collapsed": false,
    "deletable": true,
    "editable": true
   },
   "outputs": [
    {
     "data": {
      "text/plain": [
       "(32, 32, 3)"
      ]
     },
     "execution_count": 10,
     "metadata": {},
     "output_type": "execute_result"
    }
   ],
   "source": [
    "train['features'].shape[1:]"
   ]
  },
  {
   "cell_type": "code",
   "execution_count": 11,
   "metadata": {
    "collapsed": false,
    "deletable": true,
    "editable": true
   },
   "outputs": [
    {
     "name": "stdout",
     "output_type": "stream",
     "text": [
      "Number of training examples = 34799\n",
      "Number of testing examples = 12630\n",
      "Image data shape = (32, 32, 3)\n",
      "Number of classes = 43\n"
     ]
    }
   ],
   "source": [
    "### Replace each question mark with the appropriate value. \n",
    "### Use python, pandas or numpy methods rather than hard coding the results\n",
    "\n",
    "# TODO: Number of training examples\n",
    "n_train = X_train.shape[0]\n",
    "\n",
    "# TODO: Number of testing examples.\n",
    "n_test = X_test.shape[0]\n",
    "\n",
    "# TODO: What's the shape of an traffic sign image?\n",
    "image_shape = train['features'].shape[1:]\n",
    "\n",
    "# TODO: How many unique classes/labels there are in the dataset.\n",
    "n_classes = max(test['labels']) + 1\n",
    "\n",
    "print(\"Number of training examples =\", n_train)\n",
    "print(\"Number of testing examples =\", n_test)\n",
    "print(\"Image data shape =\", image_shape)\n",
    "print(\"Number of classes =\", n_classes)"
   ]
  },
  {
   "cell_type": "markdown",
   "metadata": {
    "deletable": true,
    "editable": true
   },
   "source": [
    "### Include an exploratory visualization of the dataset"
   ]
  },
  {
   "cell_type": "markdown",
   "metadata": {
    "deletable": true,
    "editable": true
   },
   "source": [
    "Visualize the German Traffic Signs Dataset using the pickled file(s). This is open ended, suggestions include: plotting traffic sign images, plotting the count of each sign, etc.\n",
    "\n",
    "The [Matplotlib](http://matplotlib.org/) [examples](http://matplotlib.org/examples/index.html) and [gallery](http://matplotlib.org/gallery.html) pages are a great resource for doing visualizations in Python.\n",
    "\n",
    "**NOTE:** It's recommended you start with something simple first. If you wish to do more, come back to it after you've completed the rest of the sections."
   ]
  },
  {
   "cell_type": "code",
   "execution_count": 12,
   "metadata": {
    "collapsed": true,
    "deletable": true,
    "editable": true
   },
   "outputs": [],
   "source": [
    "### Data exploration visualization code goes here.\n",
    "### Feel free to use as many code cells as needed.\n",
    "import matplotlib.pyplot as plt\n",
    "# Visualizations will be shown in the notebook.\n",
    "%matplotlib inline"
   ]
  },
  {
   "cell_type": "markdown",
   "metadata": {
    "deletable": true,
    "editable": true
   },
   "source": [
    "----\n",
    "\n",
    "## Step 2: Design and Test a Model Architecture\n",
    "\n",
    "Design and implement a deep learning model that learns to recognize traffic signs. Train and test your model on the [German Traffic Sign Dataset](http://benchmark.ini.rub.de/?section=gtsrb&subsection=dataset).\n",
    "\n",
    "There are various aspects to consider when thinking about this problem:\n",
    "\n",
    "- Neural network architecture\n",
    "- Play around preprocessing techniques (normalization, rgb to grayscale, etc)\n",
    "- Number of examples per label (some have more than others).\n",
    "- Generate fake data.\n",
    "\n",
    "Here is an example of a [published baseline model on this problem](http://yann.lecun.com/exdb/publis/pdf/sermanet-ijcnn-11.pdf). It's not required to be familiar with the approach used in the paper but, it's good practice to try to read papers like these.\n",
    "\n",
    "**NOTE:** The LeNet-5 implementation shown in the [classroom](https://classroom.udacity.com/nanodegrees/nd013/parts/fbf77062-5703-404e-b60c-95b78b2f3f9e/modules/6df7ae49-c61c-4bb2-a23e-6527e69209ec/lessons/601ae704-1035-4287-8b11-e2c2716217ad/concepts/d4aca031-508f-4e0b-b493-e7b706120f81) at the end of the CNN lesson is a solid starting point. You'll have to change the number of classes and possibly the preprocessing, but aside from that it's plug and play!"
   ]
  },
  {
   "cell_type": "markdown",
   "metadata": {
    "deletable": true,
    "editable": true
   },
   "source": [
    "### Pre-process the Data Set (normalization, grayscale, etc.)"
   ]
  },
  {
   "cell_type": "markdown",
   "metadata": {
    "deletable": true,
    "editable": true
   },
   "source": [
    "Use the code cell (or multiple code cells, if necessary) to implement the first step of your project."
   ]
  },
  {
   "cell_type": "code",
   "execution_count": 13,
   "metadata": {
    "collapsed": false,
    "deletable": true,
    "editable": true
   },
   "outputs": [
    {
     "name": "stdout",
     "output_type": "stream",
     "text": [
      "13\n"
     ]
    },
    {
     "data": {
      "image/png": "[encoded data removed]",
      "text/plain": [
       "<matplotlib.figure.Figure at 0x1209d52b0>"
      ]
     },
     "metadata": {},
     "output_type": "display_data"
    }
   ],
   "source": [
    "import random\n",
    "import matplotlib.image as mpimg\n",
    "from PIL import Image\n",
    "import numpy as np\n",
    "\n",
    "index = random.randint(0,n_train)\n",
    "image = X_train[index].squeeze()\n",
    "\n",
    "plt.figure(figsize=(1,1))\n",
    "plt.imshow(image,cmap='gray')\n",
    "print(y_train[index])"
   ]
  },
  {
   "cell_type": "code",
   "execution_count": 14,
   "metadata": {
    "collapsed": false,
    "deletable": true,
    "editable": true
   },
   "outputs": [
    {
     "data": {
      "text/plain": [
       "(32, 32, 3)"
      ]
     },
     "execution_count": 14,
     "metadata": {},
     "output_type": "execute_result"
    }
   ],
   "source": [
    "image.shape"
   ]
  },
  {
   "cell_type": "code",
   "execution_count": 15,
   "metadata": {
    "collapsed": false,
    "deletable": true,
    "editable": true
   },
   "outputs": [],
   "source": [
    "import cv2"
   ]
  },
  {
   "cell_type": "code",
   "execution_count": 16,
   "metadata": {
    "collapsed": true,
    "deletable": true,
    "editable": true
   },
   "outputs": [],
   "source": [
    "# def rgb2gray(rgb):\n",
    "#     return np.dot(rgb[...,:3], [0.299, 0.587, 0.114]).reshape(32,32,1)"
   ]
  },
  {
   "cell_type": "code",
   "execution_count": 17,
   "metadata": {
    "collapsed": false,
    "deletable": true,
    "editable": true
   },
   "outputs": [
    {
     "name": "stdout",
     "output_type": "stream",
     "text": [
      "(32, 32, 3)\n",
      "(32, 32, 1)\n"
     ]
    }
   ],
   "source": [
    "# #%matplotlib inline\n",
    "# print(image.shape)\n",
    "# gray = cv2.cvtColor(image, cv2.COLOR_RGB2GRAY).reshape(32,32,1)\n",
    "# print(gray.shape)\n",
    "# # gray = rgb2gray(image)\n",
    "# # plt.figure(figsize=(1,1))\n",
    "# # print(gray.shape)\n",
    "# #plt.imshow(gray, cmap='gray')\n",
    "# #plt.imshow(gray,cmap='gray')\n",
    "# #plt.show()\n",
    "# #type(gray)\n",
    "# #print(y_train[index])"
   ]
  },
  {
   "cell_type": "code",
   "execution_count": 16,
   "metadata": {
    "collapsed": false,
    "deletable": true,
    "editable": true
   },
   "outputs": [],
   "source": [
    "for i in range(n_train):\n",
    "    X_train[i].astype(np.float32)"
   ]
  },
  {
   "cell_type": "code",
   "execution_count": 17,
   "metadata": {
    "collapsed": false,
    "deletable": true,
    "editable": true
   },
   "outputs": [
    {
     "data": {
      "text/plain": [
       "numpy.ndarray"
      ]
     },
     "execution_count": 17,
     "metadata": {},
     "output_type": "execute_result"
    }
   ],
   "source": [
    "type(X_train[0][0])"
   ]
  },
  {
   "cell_type": "code",
   "execution_count": 18,
   "metadata": {
    "collapsed": true
   },
   "outputs": [],
   "source": [
    "def minMaxNormalize(data, inputMin, inputMax, outputMin, outputMax):\n",
    "    return outputMin + ((data - inputMin) * (outputMax - outputMin)) / (inputMax - inputMin)"
   ]
  },
  {
   "cell_type": "code",
   "execution_count": 19,
   "metadata": {
    "collapsed": true
   },
   "outputs": [],
   "source": [
    "def grayscale(img, bPlot=False):\n",
    "    #gray = cv2.cvtColor(img, cv2.COLOR_RGB2GRAY)\n",
    "    gray = cv2.cvtColor(img, cv2.COLOR_RGB2GRAY).reshape(32,32,1)\n",
    "    #if (bPlot):\n",
    "        #plt.imshow(gray, cmap='gray')\n",
    "    return gray"
   ]
  },
  {
   "cell_type": "code",
   "execution_count": 20,
   "metadata": {
    "collapsed": true
   },
   "outputs": [],
   "source": [
    "def preprocessImage(image):\n",
    "    # make sure the image is 32x32\n",
    "    scaleFactorY = 32. / image.shape[0]\n",
    "    scaleFactorX = 32. / image.shape[1]\n",
    "    resized = cv2.resize(image, None, fx=scaleFactorX, fy=scaleFactorY, interpolation=cv2.INTER_AREA)\n",
    "    gray = grayscale(image)\n",
    "    equ = cv2.equalizeHist(gray).reshape(32,32,1)\n",
    "    normalized = minMaxNormalize(equ, 0., 255., -1., 1.)\n",
    "#     print('***')\n",
    "#     print(gray.shape)\n",
    "    return gray"
   ]
  },
  {
   "cell_type": "code",
   "execution_count": 21,
   "metadata": {
    "collapsed": false,
    "deletable": true,
    "editable": true
   },
   "outputs": [],
   "source": [
    "X_train_process = []\n",
    "for index in range(len(X_train)):\n",
    "    image = X_train[index]\n",
    "    #type(image[index][0][0][0])\n",
    "    #image_process = cv2.cvtColor(image, cv2.COLOR_RGB2GRAY).reshape(32,32,1)\n",
    "    image_process = preprocessImage(image)\n",
    "    X_train_process.append(image_process)"
   ]
  },
  {
   "cell_type": "code",
   "execution_count": 22,
   "metadata": {
    "collapsed": false,
    "deletable": true,
    "editable": true
   },
   "outputs": [
    {
     "data": {
      "text/plain": [
       "(32, 32, 1)"
      ]
     },
     "execution_count": 22,
     "metadata": {},
     "output_type": "execute_result"
    }
   ],
   "source": [
    "X_train_process[0].shape"
   ]
  },
  {
   "cell_type": "code",
   "execution_count": 23,
   "metadata": {
    "collapsed": false,
    "deletable": true,
    "editable": true
   },
   "outputs": [],
   "source": [
    "X_train, X_valid, y_train, y_valid = train_test_split(X_train_process, y_train, test_size = 0.2, random_state=0)"
   ]
  },
  {
   "cell_type": "code",
   "execution_count": 24,
   "metadata": {
    "collapsed": false,
    "deletable": true,
    "editable": true
   },
   "outputs": [
    {
     "name": "stdout",
     "output_type": "stream",
     "text": [
      "Number of training examples = 27839\n",
      "Number of training labels = 27839\n",
      "Number of valid labels = 6960\n",
      "Number of valid examples = 6960\n"
     ]
    }
   ],
   "source": [
    "print(\"Number of training examples =\", len(X_train))\n",
    "print(\"Number of training labels =\", len(y_train))\n",
    "print(\"Number of valid labels =\", len(y_valid))\n",
    "print(\"Number of valid examples =\", len(X_valid))"
   ]
  },
  {
   "cell_type": "code",
   "execution_count": 25,
   "metadata": {
    "collapsed": false,
    "deletable": true,
    "editable": true
   },
   "outputs": [
    {
     "data": {
      "text/plain": [
       "27839"
      ]
     },
     "execution_count": 25,
     "metadata": {},
     "output_type": "execute_result"
    }
   ],
   "source": [
    "len(y_train)"
   ]
  },
  {
   "cell_type": "code",
   "execution_count": 26,
   "metadata": {
    "collapsed": false,
    "deletable": true,
    "editable": true
   },
   "outputs": [],
   "source": [
    "### Preprocess the data here. Preprocessing steps could include normalization, converting to grayscale, etc.\n",
    "### Feel free to use as many code cells as needed.\n",
    "from sklearn.utils import shuffle\n",
    "\n",
    "X_train, y_train = shuffle(X_train, y_train)"
   ]
  },
  {
   "cell_type": "code",
   "execution_count": 27,
   "metadata": {
    "collapsed": true,
    "deletable": true,
    "editable": true
   },
   "outputs": [],
   "source": [
    "import tensorflow as tf\n",
    "\n",
    "EPOCHS = 15\n",
    "BATCH_SIZE = 128"
   ]
  },
  {
   "cell_type": "markdown",
   "metadata": {
    "deletable": true,
    "editable": true
   },
   "source": [
    "### Model Architecture"
   ]
  },
  {
   "cell_type": "code",
   "execution_count": null,
   "metadata": {
    "collapsed": true,
    "deletable": true,
    "editable": true
   },
   "outputs": [],
   "source": [
    "### Define your architecture here.\n",
    "### Feel free to use as many code cells as needed."
   ]
  },
  {
   "cell_type": "code",
   "execution_count": 28,
   "metadata": {
    "collapsed": true,
    "deletable": true,
    "editable": true
   },
   "outputs": [],
   "source": [
    "from tensorflow.contrib.layers import flatten\n",
    "\n",
    "def LeNet(x, keep_prob):    \n",
    "    # Arguments used for tf.truncated_normal, randomly defines variables for the weights and biases for each layer\n",
    "    mu = 0\n",
    "    sigma = 0.1\n",
    "    \n",
    "    # SOLUTION: Layer 1: Convolutional. Input = 32x32x1. Output = 28x28x6.\n",
    "    conv1_W = tf.Variable(tf.truncated_normal(shape=(5, 5, 1, 6), mean = mu, stddev = sigma))\n",
    "    conv1_b = tf.Variable(tf.zeros(6))\n",
    "    conv1   = tf.nn.conv2d(x, conv1_W, strides=[1, 1, 1, 1], padding='VALID') + conv1_b\n",
    "\n",
    "    # SOLUTION: Activation.\n",
    "    conv1 = tf.nn.relu(conv1)\n",
    "\n",
    "    # SOLUTION: Pooling. Input = 28x28x6. Output = 14x14x6.\n",
    "    conv1 = tf.nn.max_pool(conv1, ksize=[1, 2, 2, 1], strides=[1, 2, 2, 1], padding='VALID')\n",
    "    \n",
    "    #Dropout layer\n",
    "    conv1 = tf.nn.dropout(conv1, keep_prob)\n",
    "\n",
    "    # SOLUTION: Layer 2: Convolutional. Output = 10x10x16.\n",
    "    conv2_W = tf.Variable(tf.truncated_normal(shape=(5, 5, 6, 16), mean = mu, stddev = sigma))\n",
    "    conv2_b = tf.Variable(tf.zeros(16))\n",
    "    conv2   = tf.nn.conv2d(conv1, conv2_W, strides=[1, 1, 1, 1], padding='VALID') + conv2_b\n",
    "    \n",
    "    # SOLUTION: Activation.\n",
    "    conv2 = tf.nn.relu(conv2)\n",
    "\n",
    "    # SOLUTION: Pooling. Input = 10x10x16. Output = 5x5x16.\n",
    "    conv2 = tf.nn.max_pool(conv2, ksize=[1, 2, 2, 1], strides=[1, 2, 2, 1], padding='VALID')\n",
    "    \n",
    "    #Dropout layer 2\n",
    "    conv2 = tf.nn.dropout(conv2, keep_prob)\n",
    "\n",
    "    # SOLUTION: Flatten. Input = 5x5x16. Output = 400.\n",
    "    fc0   = flatten(conv2)\n",
    "    \n",
    "    # SOLUTION: Layer 3: Fully Connected. Input = 400. Output = 120.\n",
    "    fc1_W = tf.Variable(tf.truncated_normal(shape=(400, 120), mean = mu, stddev = sigma))\n",
    "    fc1_b = tf.Variable(tf.zeros(120))\n",
    "    fc1   = tf.matmul(fc0, fc1_W) + fc1_b\n",
    "    \n",
    "    # SOLUTION: Activation.\n",
    "    fc1    = tf.nn.relu(fc1)\n",
    "\n",
    "    # SOLUTION: Layer 4: Fully Connected. Input = 120. Output = 84.\n",
    "    fc2_W  = tf.Variable(tf.truncated_normal(shape=(120, 84), mean = mu, stddev = sigma))\n",
    "    fc2_b  = tf.Variable(tf.zeros(84))\n",
    "    fc2    = tf.matmul(fc1, fc2_W) + fc2_b\n",
    "    \n",
    "    # SOLUTION: Activation.\n",
    "    fc2    = tf.nn.relu(fc2)\n",
    "\n",
    "    # SOLUTION: Layer 5: Fully Connected. Input = 84. Output = 10.\n",
    "    fc3_W  = tf.Variable(tf.truncated_normal(shape=(84, 43), mean = mu, stddev = sigma))\n",
    "    fc3_b  = tf.Variable(tf.zeros(43))\n",
    "    logits = tf.matmul(fc2, fc3_W) + fc3_b\n",
    "    \n",
    "    return logits, conv1_W, conv1"
   ]
  },
  {
   "cell_type": "markdown",
   "metadata": {
    "deletable": true,
    "editable": true
   },
   "source": [
    "### Train, Validate and Test the Model"
   ]
  },
  {
   "cell_type": "markdown",
   "metadata": {
    "deletable": true,
    "editable": true
   },
   "source": [
    "A validation set can be used to assess how well the model is performing. A low accuracy on the training and validation\n",
    "sets imply underfitting. A high accuracy on the training set but low accuracy on the validation set implies overfitting."
   ]
  },
  {
   "cell_type": "code",
   "execution_count": null,
   "metadata": {
    "collapsed": true,
    "deletable": true,
    "editable": true
   },
   "outputs": [],
   "source": [
    "### Train your model here.\n",
    "### Calculate and report the accuracy on the training and validation set.\n",
    "### Once a final model architecture is selected, \n",
    "### the accuracy on the test set should be calculated and reported as well.\n",
    "### Feel free to use as many code cells as needed."
   ]
  },
  {
   "cell_type": "code",
   "execution_count": null,
   "metadata": {
    "collapsed": false,
    "deletable": true,
    "editable": true
   },
   "outputs": [],
   "source": []
  },
  {
   "cell_type": "code",
   "execution_count": 36,
   "metadata": {
    "collapsed": false,
    "deletable": true,
    "editable": true
   },
   "outputs": [],
   "source": [
    "x = tf.placeholder(tf.float32, (None, 32, 32,1 ))\n",
    "y = tf.placeholder(tf.int32, (None))\n",
    "one_hot_y = tf.one_hot(y, 43)\n",
    "keep_prob = tf.placeholder(tf.float32, (None))"
   ]
  },
  {
   "cell_type": "code",
   "execution_count": 32,
   "metadata": {
    "collapsed": false,
    "deletable": true,
    "editable": true
   },
   "outputs": [
    {
     "data": {
      "text/plain": [
       "<tf.Tensor 'Shape:0' shape=(4,) dtype=int32>"
      ]
     },
     "execution_count": 32,
     "metadata": {},
     "output_type": "execute_result"
    }
   ],
   "source": [
    "tf.shape(x)"
   ]
  },
  {
   "cell_type": "code",
   "execution_count": 37,
   "metadata": {
    "collapsed": false,
    "deletable": true,
    "editable": true
   },
   "outputs": [],
   "source": [
    "rate = 0.001\n",
    "\n",
    "logits, conv1_W, conv1 = LeNet(x, keep_prob)\n",
    "cross_entropy = tf.nn.softmax_cross_entropy_with_logits(logits, one_hot_y)\n",
    "loss_operation = tf.reduce_mean(cross_entropy)\n",
    "loss_operation = tf.reduce_mean(loss_operation)\n",
    "\n",
    "optimizer = tf.train.AdamOptimizer(learning_rate = rate)\n",
    "training_operation = optimizer.minimize(loss_operation)"
   ]
  },
  {
   "cell_type": "code",
   "execution_count": null,
   "metadata": {
    "collapsed": false,
    "deletable": true,
    "editable": true
   },
   "outputs": [],
   "source": [
    "tf.shape(cross_entropy)"
   ]
  },
  {
   "cell_type": "code",
   "execution_count": 41,
   "metadata": {
    "collapsed": false,
    "deletable": true,
    "editable": true
   },
   "outputs": [],
   "source": [
    "correct_prediction = tf.equal(tf.argmax(logits, 1), tf.argmax(one_hot_y, 1))\n",
    "accuracy_operation = tf.reduce_mean(tf.cast(correct_prediction, tf.float32))\n",
    "#new_graph = tf.Graph()\n",
    "saver = tf.train.Saver()\n",
    "# with tf.Session(graph=new_graph) as sess:\n",
    "    \n",
    "# #     # Import the previously export meta graph.\n",
    "#     saver = tf.train.import_meta_graph(new_graph)\n",
    "\n",
    "\n",
    "def evaluate(X_data, y_data):\n",
    "    num_examples = len(X_data)\n",
    "    total_accuracy = 0\n",
    "    sess = tf.get_default_session()\n",
    "    for offset in range(0, num_examples, BATCH_SIZE):\n",
    "        batch_x, batch_y = X_data[offset:offset+BATCH_SIZE], y_data[offset:offset+BATCH_SIZE]\n",
    "        accuracy = sess.run(accuracy_operation, feed_dict={x: batch_x, y: batch_y, keep_prob: 0.8})\n",
    "        #print(accuracy)\n",
    "    \n",
    "        total_accuracy += (accuracy * len(batch_x))\n",
    "    return total_accuracy / num_examples"
   ]
  },
  {
   "cell_type": "code",
   "execution_count": 42,
   "metadata": {
    "collapsed": false,
    "deletable": true,
    "editable": true
   },
   "outputs": [
    {
     "name": "stdout",
     "output_type": "stream",
     "text": [
      "Training...\n",
      "\n",
      "EPOCH 1 ...\n",
      "Test Accuracy = 0.279\n",
      "Validation Accuracy = 0.278\n",
      "\n",
      "EPOCH 2 ...\n",
      "Test Accuracy = 0.607\n",
      "Validation Accuracy = 0.597\n",
      "\n",
      "EPOCH 3 ...\n",
      "Test Accuracy = 0.715\n",
      "Validation Accuracy = 0.707\n",
      "\n",
      "EPOCH 4 ...\n",
      "Test Accuracy = 0.785\n",
      "Validation Accuracy = 0.772\n",
      "\n",
      "EPOCH 5 ...\n",
      "Test Accuracy = 0.836\n",
      "Validation Accuracy = 0.819\n",
      "\n",
      "EPOCH 6 ...\n",
      "Test Accuracy = 0.857\n",
      "Validation Accuracy = 0.848\n",
      "\n",
      "EPOCH 7 ...\n",
      "Test Accuracy = 0.880\n",
      "Validation Accuracy = 0.866\n",
      "\n",
      "EPOCH 8 ...\n",
      "Test Accuracy = 0.879\n",
      "Validation Accuracy = 0.864\n",
      "\n",
      "EPOCH 9 ...\n",
      "Test Accuracy = 0.896\n",
      "Validation Accuracy = 0.879\n",
      "\n",
      "EPOCH 10 ...\n",
      "Test Accuracy = 0.902\n",
      "Validation Accuracy = 0.888\n",
      "\n",
      "EPOCH 11 ...\n",
      "Test Accuracy = 0.910\n",
      "Validation Accuracy = 0.896\n",
      "\n",
      "EPOCH 12 ...\n",
      "Test Accuracy = 0.922\n",
      "Validation Accuracy = 0.911\n",
      "\n",
      "EPOCH 13 ...\n",
      "Test Accuracy = 0.921\n",
      "Validation Accuracy = 0.907\n",
      "\n",
      "EPOCH 14 ...\n",
      "Test Accuracy = 0.936\n",
      "Validation Accuracy = 0.920\n",
      "\n",
      "EPOCH 15 ...\n",
      "Test Accuracy = 0.936\n",
      "Validation Accuracy = 0.919\n",
      "\n",
      "Model saved\n"
     ]
    }
   ],
   "source": [
    "with tf.Session() as sess:\n",
    "    sess.run(tf.global_variables_initializer())\n",
    "    num_examples = len(X_train)\n",
    "    print(\"Training...\")\n",
    "    print()\n",
    "    for i in range(EPOCHS):\n",
    "        X_train, y_train = shuffle(X_train, y_train)\n",
    "        for offset in range(0, num_examples, BATCH_SIZE):\n",
    "            end = offset + BATCH_SIZE\n",
    "            batch_x, batch_y = X_train[offset:end], y_train[offset:end]\n",
    "            sess.run(training_operation, feed_dict={x: batch_x, y: batch_y, keep_prob:0.8})\n",
    "        #print(test)\n",
    "        train_accuracy = evaluate(X_train, y_train)\n",
    "        validation_accuracy = evaluate(X_valid, y_valid)\n",
    "        print(\"EPOCH {} ...\".format(i+1))\n",
    "        print(\"Test Accuracy = {:.3f}\".format(train_accuracy))\n",
    "        print(\"Validation Accuracy = {:.3f}\".format(validation_accuracy))\n",
    "        print()\n",
    "        \n",
    "    saver.save(sess, './lenet')\n",
    "    print(\"Model saved\")"
   ]
  },
  {
   "cell_type": "code",
   "execution_count": null,
   "metadata": {
    "collapsed": false,
    "deletable": true,
    "editable": true
   },
   "outputs": [],
   "source": [
    "# rate = 0.001\n",
    "\n",
    "# logits = LeNet(x)\n",
    "# # cross_entropy = tf.nn.softmax_cross_entropy_with_logits(logits, one_hot_y)\n",
    "# # loss_operation = tf.reduce_mean(cross_entropy)\n",
    "# # loss_operation = tf.reduce_mean(loss_operation)\n",
    "# optimizer = tf.train.AdamOptimizer(learning_rate = rate)\n",
    "# training_operation = optimizer.minimize(logits)\n",
    "# with tf.Session() as sess:\n",
    "#     sess.run(tf.global_variables_initializer())\n",
    "#     test = sess.run(training_operation, feed_dict={x: [test1_gray]})\n",
    "#     print (test)"
   ]
  },
  {
   "cell_type": "markdown",
   "metadata": {
    "deletable": true,
    "editable": true
   },
   "source": [
    "---\n",
    "\n",
    "## Step 3: Test a Model on New Images\n",
    "\n",
    "To give yourself more insight into how your model is working, download at least five pictures of German traffic signs from the web and use your model to predict the traffic sign type.\n",
    "\n",
    "You may find `signnames.csv` useful as it contains mappings from the class id (integer) to the actual sign name."
   ]
  },
  {
   "cell_type": "markdown",
   "metadata": {
    "deletable": true,
    "editable": true
   },
   "source": [
    "### Load and Output the Images"
   ]
  },
  {
   "cell_type": "code",
   "execution_count": 43,
   "metadata": {
    "collapsed": false,
    "deletable": true,
    "editable": true
   },
   "outputs": [
    {
     "data": {
      "text/plain": [
       "<matplotlib.image.AxesImage at 0x10e57e128>"
      ]
     },
     "execution_count": 43,
     "metadata": {},
     "output_type": "execute_result"
    },
    {
     "data": {
      "image/png": "[encoded data removed]",
      "text/plain": [
       "<matplotlib.figure.Figure at 0x12fe0f3c8>"
      ]
     },
     "metadata": {},
     "output_type": "display_data"
    }
   ],
   "source": [
    "### Load the images and plot them here.\n",
    "### Feel free to use as many code cells as needed.\n",
    "test1 = plt.imread(\"test/1_(1).jpg\")\n",
    "test2 = plt.imread(\"test/2_2.jpg\")\n",
    "test3 = plt.imread(\"test/3_3.jpg\")\n",
    "test4 = plt.imread(\"test/4_4.jpg\")\n",
    "test5 = plt.imread(\"test/5_5.jpg\")\n",
    "plt.figure(figsize=(1,1))\n",
    "plt.imshow(test5)"
   ]
  },
  {
   "cell_type": "code",
   "execution_count": 44,
   "metadata": {
    "collapsed": false,
    "deletable": true,
    "editable": true
   },
   "outputs": [
    {
     "data": {
      "text/plain": [
       "(32, 32, 3)"
      ]
     },
     "execution_count": 44,
     "metadata": {},
     "output_type": "execute_result"
    }
   ],
   "source": [
    "test5.shape"
   ]
  },
  {
   "cell_type": "code",
   "execution_count": 45,
   "metadata": {
    "collapsed": false,
    "deletable": true,
    "editable": true
   },
   "outputs": [
    {
     "data": {
      "text/plain": [
       "array([75], dtype=int32)"
      ]
     },
     "execution_count": 45,
     "metadata": {},
     "output_type": "execute_result"
    }
   ],
   "source": [
    "#plt.imshow(test1)\n",
    "test1_gray = cv2.cvtColor(test1, cv2.COLOR_RGB2GRAY).astype(np.int32).reshape(32,32,1)\n",
    "test1_gray[0][0]\n",
    "#plt.imshow(test1_gray, cmap='gray')"
   ]
  },
  {
   "cell_type": "code",
   "execution_count": 46,
   "metadata": {
    "collapsed": false,
    "deletable": true,
    "editable": true
   },
   "outputs": [],
   "source": [
    "from glob import glob\n",
    "def loadTestImages():\n",
    "    fileNames = glob('test/*.jpg')\n",
    "    fileNames.sort()\n",
    "\n",
    "    images = []\n",
    "    for fileName in fileNames:\n",
    "        print(\"fileName= {}\".format(fileName))\n",
    "        imageName = fileName[:-3]\n",
    "        img = cv2.imread(fileName)\n",
    "        images.append(img)\n",
    "    return images"
   ]
  },
  {
   "cell_type": "code",
   "execution_count": 47,
   "metadata": {
    "collapsed": false,
    "deletable": true,
    "editable": true
   },
   "outputs": [
    {
     "name": "stdout",
     "output_type": "stream",
     "text": [
      "fileName= test/1_(1).jpg\n",
      "fileName= test/2_2.jpg\n",
      "fileName= test/3_3.jpg\n",
      "fileName= test/4_4.jpg\n",
      "fileName= test/5_5.jpg\n"
     ]
    }
   ],
   "source": [
    "fileNames = glob('test/*.jpg')\n",
    "fileNames.sort()\n",
    "\n",
    "images = []\n",
    "for fileName in fileNames:\n",
    "        print(\"fileName= {}\".format(fileName))\n",
    "        imageName = fileName[:-3]\n",
    "        img = cv2.imread(fileName)\n",
    "        images.append(img)"
   ]
  },
  {
   "cell_type": "code",
   "execution_count": 48,
   "metadata": {
    "collapsed": false,
    "deletable": true,
    "editable": true
   },
   "outputs": [
    {
     "data": {
      "text/plain": [
       "[array([[[109,  70,  72],\n",
       "         [105,  65,  77],\n",
       "         [118,  77,  98],\n",
       "         ..., \n",
       "         [ 35,  16,  65],\n",
       "         [ 39,  34,  65],\n",
       "         [ 49,  56,  73]],\n",
       " \n",
       "        [[119,  84,  80],\n",
       "         [ 69,  35,  36],\n",
       "         [ 98,  65,  72],\n",
       "         ..., \n",
       "         [110,  74,  86],\n",
       "         [ 95,  69,  62],\n",
       "         [ 99,  80,  59]],\n",
       " \n",
       "        [[ 93,  68,  52],\n",
       "         [ 96,  72,  60],\n",
       "         [ 88,  68,  57],\n",
       "         ..., \n",
       "         [151,  95,  54],\n",
       "         [150,  97,  40],\n",
       "         [165, 116,  46]],\n",
       " \n",
       "        ..., \n",
       "        [[ 37,  48,  76],\n",
       "         [ 88,  96, 125],\n",
       "         [ 66,  74, 104],\n",
       "         ..., \n",
       "         [ 25,  33,  33],\n",
       "         [ 25,  30,  31],\n",
       "         [ 26,  32,  31]],\n",
       " \n",
       "        [[ 69,  83,  89],\n",
       "         [107, 120, 128],\n",
       "         [ 94, 106, 118],\n",
       "         ..., \n",
       "         [ 30,  31,  29],\n",
       "         [ 29,  28,  24],\n",
       "         [ 32,  29,  25]],\n",
       " \n",
       "        [[ 78,  97,  82],\n",
       "         [110, 127, 116],\n",
       "         [106, 120, 114],\n",
       "         ..., \n",
       "         [ 42,  39,  34],\n",
       "         [ 45,  39,  32],\n",
       "         [ 49,  43,  36]]], dtype=uint8), array([[[208,  89,  98],\n",
       "         [187, 120,  87],\n",
       "         [160, 150,  90],\n",
       "         ..., \n",
       "         [154,  70,  35],\n",
       "         [138,  81,  20],\n",
       "         [126,  96,   0]],\n",
       " \n",
       "        [[189,  84,  81],\n",
       "         [170, 106,  72],\n",
       "         [149, 130,  73],\n",
       "         ..., \n",
       "         [155,  72,  34],\n",
       "         [140,  81,  19],\n",
       "         [129,  94,   0]],\n",
       " \n",
       "        [[164,  84,  61],\n",
       "         [154,  94,  58],\n",
       "         [143, 109,  56],\n",
       "         ..., \n",
       "         [155,  74,  29],\n",
       "         [143,  83,  17],\n",
       "         [134,  93,   0]],\n",
       " \n",
       "        ..., \n",
       "        [[168, 109,  64],\n",
       "         [171,  99,  65],\n",
       "         [180,  95,  63],\n",
       "         ..., \n",
       "         [191,  96,  57],\n",
       "         [189,  86,  61],\n",
       "         [190,  77,  67]],\n",
       " \n",
       "        [[138, 117,  49],\n",
       "         [149, 114,  40],\n",
       "         [171, 110,  42],\n",
       "         ..., \n",
       "         [160, 108,  41],\n",
       "         [171, 100,  66],\n",
       "         [176,  89,  79]],\n",
       " \n",
       "        [[132, 132,  24],\n",
       "         [149, 134,  11],\n",
       "         [178, 130,  18],\n",
       "         ..., \n",
       "         [136, 126,  12],\n",
       "         [150, 117,  44],\n",
       "         [158, 103,  66]]], dtype=uint8), array([[[169, 144,  58],\n",
       "         [174, 141,  61],\n",
       "         [183, 137,  73],\n",
       "         ..., \n",
       "         [182, 123, 107],\n",
       "         [177, 142,  78],\n",
       "         [170, 152,  51]],\n",
       " \n",
       "        [[171, 131,  78],\n",
       "         [174, 130,  77],\n",
       "         [179, 127,  81],\n",
       "         ..., \n",
       "         [187, 130, 108],\n",
       "         [180, 138,  93],\n",
       "         [174, 139,  76]],\n",
       " \n",
       "        [[183, 124, 108],\n",
       "         [187, 127, 111],\n",
       "         [189, 126, 105],\n",
       "         ..., \n",
       "         [188, 139,  95],\n",
       "         [185, 133, 103],\n",
       "         [178, 125, 104]],\n",
       " \n",
       "        ..., \n",
       "        [[200, 163, 129],\n",
       "         [203, 167, 131],\n",
       "         [203, 171, 130],\n",
       "         ..., \n",
       "         [218, 175, 124],\n",
       "         [218, 175, 124],\n",
       "         [218, 175, 126]],\n",
       " \n",
       "        [[199, 164, 130],\n",
       "         [200, 166, 136],\n",
       "         [201, 168, 142],\n",
       "         ..., \n",
       "         [221, 172, 132],\n",
       "         [221, 173, 131],\n",
       "         [221, 173, 131]],\n",
       " \n",
       "        [[197, 165, 129],\n",
       "         [201, 167, 138],\n",
       "         [202, 166, 148],\n",
       "         ..., \n",
       "         [224, 169, 142],\n",
       "         [224, 170, 140],\n",
       "         [224, 170, 140]]], dtype=uint8), array([[[176, 125,  45],\n",
       "         [167, 117,  65],\n",
       "         [156, 110,  86],\n",
       "         ..., \n",
       "         [163, 106,  84],\n",
       "         [154, 109,  71],\n",
       "         [152, 116,  56]],\n",
       " \n",
       "        [[178, 118,  72],\n",
       "         [172, 121,  71],\n",
       "         [162, 122,  73],\n",
       "         ..., \n",
       "         [166, 118,  76],\n",
       "         [162, 117,  74],\n",
       "         [161, 116,  72]],\n",
       " \n",
       "        [[183, 113, 100],\n",
       "         [179, 124,  81],\n",
       "         [172, 133,  64],\n",
       "         ..., \n",
       "         [167, 131,  67],\n",
       "         [170, 124,  76],\n",
       "         [173, 116,  90]],\n",
       " \n",
       "        ..., \n",
       "        [[177, 172, 151],\n",
       "         [176, 168, 161],\n",
       "         [174, 165, 175],\n",
       "         ..., \n",
       "         [181, 173, 166],\n",
       "         [182, 170, 164],\n",
       "         [183, 168, 165]],\n",
       " \n",
       "        [[177, 171, 148],\n",
       "         [178, 169, 160],\n",
       "         [176, 165, 173],\n",
       "         ..., \n",
       "         [180, 173, 158],\n",
       "         [186, 173, 159],\n",
       "         [184, 168, 155]],\n",
       " \n",
       "        [[176, 166, 149],\n",
       "         [177, 164, 162],\n",
       "         [174, 162, 174],\n",
       "         ..., \n",
       "         [128, 119, 105],\n",
       "         [142, 126, 114],\n",
       "         [142, 124, 113]]], dtype=uint8), array([[[175, 114,  28],\n",
       "         [170, 114,  33],\n",
       "         [163, 106,  55],\n",
       "         ..., \n",
       "         [156, 118,  36],\n",
       "         [142, 109,  30],\n",
       "         [138, 100,  46]],\n",
       " \n",
       "        [[177, 114,  40],\n",
       "         [173, 111,  47],\n",
       "         [168, 109,  64],\n",
       "         ..., \n",
       "         [163, 116,  62],\n",
       "         [153, 110,  47],\n",
       "         [150, 109,  46]],\n",
       " \n",
       "        [[180, 114,  55],\n",
       "         [178, 110,  67],\n",
       "         [174, 112,  74],\n",
       "         ..., \n",
       "         [171, 110,  90],\n",
       "         [167, 108,  69],\n",
       "         [169, 118,  48]],\n",
       " \n",
       "        ..., \n",
       "        [[109,  89,  88],\n",
       "         [ 91,  75,  76],\n",
       "         [ 72,  64,  65],\n",
       "         ..., \n",
       "         [ 36,  20,  61],\n",
       "         [ 60,  55,  56],\n",
       "         [ 68,  73,  42]],\n",
       " \n",
       "        [[124, 103, 102],\n",
       "         [116,  98,  99],\n",
       "         [104,  93,  95],\n",
       "         ..., \n",
       "         [ 16,   9,  24],\n",
       "         [ 33,  34,  18],\n",
       "         [ 25,  34,   0]],\n",
       " \n",
       "        [[125, 106,  98],\n",
       "         [130, 115, 106],\n",
       "         [129, 122, 113],\n",
       "         ..., \n",
       "         [  2,   7,   0],\n",
       "         [ 16,  29,   0],\n",
       "         [ 27,  43,   0]]], dtype=uint8)]"
      ]
     },
     "execution_count": 48,
     "metadata": {},
     "output_type": "execute_result"
    }
   ],
   "source": [
    "images[0].shape\n",
    "images"
   ]
  },
  {
   "cell_type": "code",
   "execution_count": 49,
   "metadata": {
    "collapsed": false,
    "deletable": true,
    "editable": true
   },
   "outputs": [
    {
     "data": {
      "text/plain": [
       "<matplotlib.image.AxesImage at 0x10c1ee3c8>"
      ]
     },
     "execution_count": 49,
     "metadata": {},
     "output_type": "execute_result"
    },
    {
     "data": {
      "image/png": "[encoded data removed]",
      "text/plain": [
       "<matplotlib.figure.Figure at 0x10dd51470>"
      ]
     },
     "metadata": {},
     "output_type": "display_data"
    }
   ],
   "source": [
    "fig = plt.figure()\n",
    "plt.imshow(images[1])"
   ]
  },
  {
   "cell_type": "code",
   "execution_count": 50,
   "metadata": {
    "collapsed": false,
    "deletable": true,
    "editable": true
   },
   "outputs": [
    {
     "data": {
      "image/png": "[encoded data removed]",
      "text/plain": [
       "<matplotlib.figure.Figure at 0x10df315c0>"
      ]
     },
     "metadata": {},
     "output_type": "display_data"
    }
   ],
   "source": [
    "import matplotlib.gridspec as gridspec\n",
    "\n",
    "w = len(images)\n",
    "fig = plt.figure(figsize=(w, 1))\n",
    "gs = gridspec.GridSpec(1, w, wspace=0.0, hspace=0.0)\n",
    "\n",
    "# test_images = np.zeros([len(image_files), 32, 32, 1])\n",
    "for i in range(w):\n",
    "    ax = plt.subplot(gs[0, i])\n",
    "    fig.add_subplot(ax)\n",
    "    ax.imshow(images[i])\n",
    "plt.show()\n",
    "\n",
    "    "
   ]
  },
  {
   "cell_type": "code",
   "execution_count": null,
   "metadata": {
    "collapsed": true,
    "deletable": true,
    "editable": true
   },
   "outputs": [],
   "source": []
  },
  {
   "cell_type": "code",
   "execution_count": null,
   "metadata": {
    "collapsed": true,
    "deletable": true,
    "editable": true
   },
   "outputs": [],
   "source": [
    "# def evaluate(X_data, y_data, accuracy_operation, x, y, keep_prob, regScalar, batchSize):\n",
    "#     num_examples = len(X_data)\n",
    "#     total_accuracy = 0\n",
    "#     sess = tf.get_default_session()\n",
    "#     for offset in range(0, num_examples, batchSize):\n",
    "#         batch_x, batch_y = X_data[offset:offset+batchSize], y_data[offset:offset+batchSize]\n",
    "#         accuracy = sess.run(accuracy_operation, feed_dict={x: batch_x, y: batch_y, keep_prob: 1.0, regScalar: 0.0})\n",
    "#         total_accuracy += (accuracy * len(batch_x))\n",
    "#     return total_accuracy / num_examples"
   ]
  },
  {
   "cell_type": "code",
   "execution_count": 51,
   "metadata": {
    "collapsed": false,
    "deletable": true,
    "editable": true
   },
   "outputs": [],
   "source": [
    "# def classifyImages(images, labels):\n",
    "#     network, conv1, convw  = LeNet(x, keep_prob)\n",
    "#     # Preprocess the images\n",
    "#     processedImages = []\n",
    "#     for image in images:\n",
    "#         processedImages.append(preprocessImage(image))\n",
    "#         #processedImages = images\n",
    "\n",
    "#     #displayImageGrid(processedImages, np.arange(0, len(images)), \"testImages.png\", len(images))\n",
    "\n",
    "#     #saver = tf.train.Saver()\n",
    "#     with tf.Session() as sess:\n",
    "#         #saver = tf.train.Saver()\n",
    "#         #sess.run(tf.global_variables_initializer())\n",
    "#         sess = tf.get_default_session()\n",
    "# #         saver = tf.train.import_meta_graph('lenet.meta')\n",
    "#         saver.restore(sess, tf.train.latest_checkpoint('./'))\n",
    "#         #saver.restore(sess, './lenet')\n",
    "#         prediction = tf.argmax(network, 1, name='prediction')\n",
    "#         correct_answer = tf.argmax(one_hot_y, 1, name='correct_answer')\n",
    "#         correct_prediction = tf.equal(prediction, correct_answer, name='correct_prediction')\n",
    "#         accuracy_operation = tf.reduce_mean(tf.cast(correct_prediction, tf.float32), name='accuracy_operation')\n",
    "\n",
    "#         pred = sess.run(prediction, feed_dict={x: processedImages, y:labels})\n",
    "#         print(\"Predictions 1:{}\".format(pred))\n",
    "#         pred = sess.run(prediction, feed_dict={x: processedImages, y:labels})\n",
    "#         print(\"Predictions 2:{}\".format(pred))\n",
    "        \n",
    "#         allvars = tf.global_variables()\n",
    "#         #print(allvars[1].name)\n",
    "#         #print(allvars[1].get_shape())\n",
    "#         #print(sess.run(allvars[0]))\n",
    "#         #print(sess.run(xin, feed_dict={x: processedImages, y:labels})[0,:5,:5,0])\n",
    "#         #print(sess.run(convw, feed_dict={x: processedImages, y:labels})[0,:5,:5,0])\n",
    "#         #print(sess.run(conv1, feed_dict={x: processedImages, y:labels})[0,:5,:5,0])\n",
    "#         print(sess.run(network, feed_dict={x: processedImages, y:labels}))\n",
    "        \n",
    "#         answer = sess.run(correct_answer, feed_dict={y: labels})\n",
    "#         #print(\"Answers:{}\".format(answer))\n",
    "#         correct = sess.run(correct_prediction,\n",
    "#                            feed_dict={x: processedImages, y: labels})\n",
    "#         #print(\"Correct:{}\".format(correct))\n",
    "#         accuracy = sess.run(accuracy_operation,\n",
    "#                             feed_dict={x: processedImages, y: labels})\n",
    "#         #print(\"Accuracy: {:.0f}%\".format(accuracy * 100.))\n",
    "#         softmax = sess.run(tf.nn.top_k(tf.nn.softmax(network), k=5),\n",
    "#                            feed_dict={x: processedImages, y: labels})\n",
    "#         #print(\"Softmax: {}\".format(softmax))\n",
    "#         return pred, accuracy, softmax"
   ]
  },
  {
   "cell_type": "code",
   "execution_count": 52,
   "metadata": {
    "collapsed": false,
    "deletable": true,
    "editable": true
   },
   "outputs": [],
   "source": [
    "#print(tf.global_variables())"
   ]
  },
  {
   "cell_type": "code",
   "execution_count": 53,
   "metadata": {
    "collapsed": false,
    "deletable": true,
    "editable": true
   },
   "outputs": [],
   "source": [
    "# pred, accuracy, softmax = classifyImages(images, [14, 25, 3, 11,28])"
   ]
  },
  {
   "cell_type": "code",
   "execution_count": null,
   "metadata": {
    "collapsed": true
   },
   "outputs": [],
   "source": []
  },
  {
   "cell_type": "code",
   "execution_count": null,
   "metadata": {
    "collapsed": false,
    "deletable": true,
    "editable": true
   },
   "outputs": [],
   "source": [
    "# test1_gray.shape\n",
    "# plt.imshow(test1_gray, cmap='gray')"
   ]
  },
  {
   "cell_type": "code",
   "execution_count": 69,
   "metadata": {
    "collapsed": false
   },
   "outputs": [
    {
     "data": {
      "image/png": "[encoded data removed]",
      "text/plain": [
       "<matplotlib.figure.Figure at 0x10e14db00>"
      ]
     },
     "metadata": {},
     "output_type": "display_data"
    },
    {
     "name": "stdout",
     "output_type": "stream",
     "text": [
      "[12 29 23 11 11]\n"
     ]
    }
   ],
   "source": [
    "w = len(images)\n",
    "fig = plt.figure(figsize=(w, 1))\n",
    "gs = gridspec.GridSpec(1, w, wspace=0.0, hspace=0.0)\n",
    "\n",
    "# test_images = np.zeros([len(image_files), 32, 32, 1])\n",
    "for i in range(w):\n",
    "    ax = plt.subplot(gs[0, i])\n",
    "    fig.add_subplot(ax)\n",
    "    ax.imshow(images[i])\n",
    "plt.show()\n",
    "\n",
    "processedImages = []\n",
    "for image in images:\n",
    "        processedImages.append(preprocessImage(image))\n",
    "        \n",
    "        \n",
    "z = len(processedImages)\n",
    "\n",
    "        \n",
    "with tf.Session() as sess:\n",
    "    saver = tf.train.import_meta_graph('lenet.meta')\n",
    "    saver.restore(sess, tf.train.latest_checkpoint('.'))  \n",
    "#     saver.restore(sess, './lenet')\n",
    "    accuracy = sess.run(accuracy_operation,feed_dict={x: processedImages, y: [14, 25, 3, 11, 28], keep_prob: 1.0})\n",
    "    pred = sess.run(tf.argmax(logits, 1), feed_dict={x: processedImages, y: [14, 25, 3, 11, 28], keep_prob: 1.0})\n",
    "    softmax = sess.run(tf.nn.top_k(tf.nn.softmax(logits), k=5),feed_dict={x: processedImages, y: [14, 25, 3, 11, 28], keep_prob: 1.0})\n",
    "    print(pred)\n",
    "#     print(\"Test Accuracy on test data = {:.3f}\".format(test_accuracy))"
   ]
  },
  {
   "cell_type": "code",
   "execution_count": 70,
   "metadata": {
    "collapsed": false,
    "deletable": true,
    "editable": true
   },
   "outputs": [
    {
     "name": "stdout",
     "output_type": "stream",
     "text": [
      "['12', 'Priority road']\n",
      "['29', 'Bicycles crossing']\n",
      "['23', 'Slippery road']\n",
      "['11', 'Right-of-way at the next intersection']\n",
      "['11', 'Right-of-way at the next intersection']\n"
     ]
    }
   ],
   "source": [
    "\n",
    "import csv\n",
    "\n",
    "signNames = []\n",
    "with open('signnames.csv') as signfile:    \n",
    "    reader = csv.reader(signfile)\n",
    "    next(reader, None) #skip the header\n",
    "    signNames = list(reader)\n",
    "    \n",
    "for acc in enumerate(pred):\n",
    "    print(signNames[acc[1]])"
   ]
  },
  {
   "cell_type": "markdown",
   "metadata": {
    "deletable": true,
    "editable": true
   },
   "source": [
    "### Predict the Sign Type for Each Image"
   ]
  },
  {
   "cell_type": "code",
   "execution_count": 71,
   "metadata": {
    "collapsed": false,
    "deletable": true,
    "editable": true
   },
   "outputs": [
    {
     "name": "stdout",
     "output_type": "stream",
     "text": [
      "Predictions:[12 29 23 11 11]\n"
     ]
    }
   ],
   "source": [
    "### Run the predictions here and use the model to output the prediction for each image.\n",
    "### Make sure to pre-process the images with the same pre-processing pipeline used earlier.\n",
    "### Feel free to use as many code cells as needed.\n",
    "print(\"Predictions:{}\".format(pred))"
   ]
  },
  {
   "cell_type": "markdown",
   "metadata": {
    "deletable": true,
    "editable": true
   },
   "source": [
    "### Analyze Performance"
   ]
  },
  {
   "cell_type": "code",
   "execution_count": 72,
   "metadata": {
    "collapsed": false,
    "deletable": true,
    "editable": true
   },
   "outputs": [
    {
     "name": "stdout",
     "output_type": "stream",
     "text": [
      "Accuracy: 20%\n"
     ]
    }
   ],
   "source": [
    "### Calculate the accuracy for these 5 new images. \n",
    "### For example, if the model predicted 1 out of 5 signs correctly, it's 20% accurate on these new images.\n",
    "\n",
    "print(\"Accuracy: {:.0f}%\".format(accuracy * 100.))"
   ]
  },
  {
   "cell_type": "markdown",
   "metadata": {
    "deletable": true,
    "editable": true
   },
   "source": [
    "### Output Top 5 Softmax Probabilities For Each Image Found on the Web"
   ]
  },
  {
   "cell_type": "markdown",
   "metadata": {
    "deletable": true,
    "editable": true
   },
   "source": [
    "For each of the new images, print out the model's softmax probabilities to show the **certainty** of the model's predictions (limit the output to the top 5 probabilities for each image). [`tf.nn.top_k`](https://www.tensorflow.org/versions/r0.12/api_docs/python/nn.html#top_k) could prove helpful here. \n",
    "\n",
    "The example below demonstrates how tf.nn.top_k can be used to find the top k predictions for each image.\n",
    "\n",
    "`tf.nn.top_k` will return the values and indices (class ids) of the top k predictions. So if k=3, for each sign, it'll return the 3 largest probabilities (out of a possible 43) and the correspoding class ids.\n",
    "\n",
    "Take this numpy array as an example. The values in the array represent predictions. The array contains softmax probabilities for five candidate images with six possible classes. `tf.nn.top_k` is used to choose the three classes with the highest probability:\n",
    "\n",
    "```\n",
    "# (5, 6) array\n",
    "a = np.array([[ 0.24879643,  0.07032244,  0.12641572,  0.34763842,  0.07893497,\n",
    "         0.12789202],\n",
    "       [ 0.28086119,  0.27569815,  0.08594638,  0.0178669 ,  0.18063401,\n",
    "         0.15899337],\n",
    "       [ 0.26076848,  0.23664738,  0.08020603,  0.07001922,  0.1134371 ,\n",
    "         0.23892179],\n",
    "       [ 0.11943333,  0.29198961,  0.02605103,  0.26234032,  0.1351348 ,\n",
    "         0.16505091],\n",
    "       [ 0.09561176,  0.34396535,  0.0643941 ,  0.16240774,  0.24206137,\n",
    "         0.09155967]])\n",
    "```\n",
    "\n",
    "Running it through `sess.run(tf.nn.top_k(tf.constant(a), k=3))` produces:\n",
    "\n",
    "```\n",
    "TopKV2(values=array([[ 0.34763842,  0.24879643,  0.12789202],\n",
    "       [ 0.28086119,  0.27569815,  0.18063401],\n",
    "       [ 0.26076848,  0.23892179,  0.23664738],\n",
    "       [ 0.29198961,  0.26234032,  0.16505091],\n",
    "       [ 0.34396535,  0.24206137,  0.16240774]]), indices=array([[3, 0, 5],\n",
    "       [0, 1, 4],\n",
    "       [0, 5, 1],\n",
    "       [1, 3, 5],\n",
    "       [1, 4, 3]], dtype=int32))\n",
    "```\n",
    "\n",
    "Looking just at the first row we get `[ 0.34763842,  0.24879643,  0.12789202]`, you can confirm these are the 3 largest probabilities in `a`. You'll also notice `[3, 0, 5]` are the corresponding indices."
   ]
  },
  {
   "cell_type": "code",
   "execution_count": 73,
   "metadata": {
    "collapsed": false,
    "deletable": true,
    "editable": true
   },
   "outputs": [
    {
     "name": "stdout",
     "output_type": "stream",
     "text": [
      "Softmax: TopKV2(values=array([[  9.04275060e-01,   9.01391059e-02,   2.70141894e-03,\n",
      "          1.87564373e-03,   5.05076954e-04],\n",
      "       [  8.41414988e-01,   8.04430023e-02,   4.19277959e-02,\n",
      "          2.57473942e-02,   7.51561997e-03],\n",
      "       [  9.86077070e-01,   5.25552221e-03,   5.15784929e-03,\n",
      "          2.77777668e-03,   5.61296765e-04],\n",
      "       [  9.84095693e-01,   6.83836546e-03,   3.57624865e-03,\n",
      "          2.38948083e-03,   1.21162191e-03],\n",
      "       [  3.30299288e-01,   2.09589317e-01,   2.05599397e-01,\n",
      "          1.50234297e-01,   6.79533482e-02]], dtype=float32), indices=array([[12, 40, 42,  7,  3],\n",
      "       [29, 24, 22, 30, 28],\n",
      "       [23, 11, 19, 20, 40],\n",
      "       [11, 20, 12, 18, 23],\n",
      "       [11, 29, 25, 36, 12]], dtype=int32))\n"
     ]
    }
   ],
   "source": [
    "### Print out the top five softmax probabilities for the predictions on the German traffic sign images found on the web. \n",
    "### Feel free to use as many code cells as needed.\n",
    "print(\"Softmax: {}\".format(softmax))"
   ]
  },
  {
   "cell_type": "markdown",
   "metadata": {
    "deletable": true,
    "editable": true
   },
   "source": [
    "---\n",
    "\n",
    "## Step 4: Visualize the Neural Network's State with Test Images\n",
    "\n",
    " This Section is not required to complete but acts as an additional excersise for understaning the output of a neural network's weights. While neural networks can be a great learning device they are often referred to as a black box. We can understand what the weights of a neural network look like better by plotting their feature maps. After successfully training your neural network you can see what it's feature maps look like by plotting the output of the network's weight layers in response to a test stimuli image. From these plotted feature maps, it's possible to see what characteristics of an image the network finds interesting. For a sign, maybe the inner network feature maps react with high activation to the sign's boundary outline or to the contrast in the sign's painted symbol.\n",
    "\n",
    " Provided for you below is the function code that allows you to get the visualization output of any tensorflow weight layer you want. The inputs to the function should be a stimuli image, one used during training or a new one you provided, and then the tensorflow variable name that represents the layer's state during the training process, for instance if you wanted to see what the [LeNet lab's](https://classroom.udacity.com/nanodegrees/nd013/parts/fbf77062-5703-404e-b60c-95b78b2f3f9e/modules/6df7ae49-c61c-4bb2-a23e-6527e69209ec/lessons/601ae704-1035-4287-8b11-e2c2716217ad/concepts/d4aca031-508f-4e0b-b493-e7b706120f81) feature maps looked like for it's second convolutional layer you could enter conv2 as the tf_activation variable.\n",
    "\n",
    "For an example of what feature map outputs look like, check out NVIDIA's results in their paper [End-to-End Deep Learning for Self-Driving Cars](https://devblogs.nvidia.com/parallelforall/deep-learning-self-driving-cars/) in the section Visualization of internal CNN State. NVIDIA was able to show that their network's inner weights had high activations to road boundary lines by comparing feature maps from an image with a clear path to one without. Try experimenting with a similar test to show that your trained network's weights are looking for interesting features, whether it's looking at differences in feature maps from images with or without a sign, or even what feature maps look like in a trained network vs a completely untrained one on the same sign image.\n",
    "\n",
    "<figure>\n",
    " <img src=\"visualize_cnn.png\" width=\"380\" alt=\"Combined Image\" />\n",
    " <figcaption>\n",
    " <p></p> \n",
    " <p style=\"text-align: center;\"> Your output should look something like this (above)</p> \n",
    " </figcaption>\n",
    "</figure>\n",
    " <p></p> \n"
   ]
  },
  {
   "cell_type": "code",
   "execution_count": null,
   "metadata": {
    "collapsed": true,
    "deletable": true,
    "editable": true
   },
   "outputs": [],
   "source": [
    "### Visualize your network's feature maps here.\n",
    "### Feel free to use as many code cells as needed.\n",
    "\n",
    "# image_input: the test image being fed into the network to produce the feature maps\n",
    "# tf_activation: should be a tf variable name used during your training procedure that represents the calculated state of a specific weight layer\n",
    "# activation_min/max: can be used to view the activation contrast in more detail, by default matplot sets min and max to the actual min and max values of the output\n",
    "# plt_num: used to plot out multiple different weight feature map sets on the same block, just extend the plt number for each new feature map entry\n",
    "\n",
    "def outputFeatureMap(image_input, tf_activation, activation_min=-1, activation_max=-1 ,plt_num=1):\n",
    "    # Here make sure to preprocess your image_input in a way your network expects\n",
    "    # with size, normalization, ect if needed\n",
    "    # image_input =\n",
    "    # Note: x should be the same name as your network's tensorflow data placeholder variable\n",
    "    # If you get an error tf_activation is not defined it maybe having trouble accessing the variable from inside a function\n",
    "    activation = tf_activation.eval(session=sess,feed_dict={x : image_input})\n",
    "    featuremaps = activation.shape[3]\n",
    "    plt.figure(plt_num, figsize=(15,15))\n",
    "    for featuremap in range(featuremaps):\n",
    "        plt.subplot(6,8, featuremap+1) # sets the number of feature maps to show on each row and column\n",
    "        plt.title('FeatureMap ' + str(featuremap)) # displays the feature map number\n",
    "        if activation_min != -1 & activation_max != -1:\n",
    "            plt.imshow(activation[0,:,:, featuremap], interpolation=\"nearest\", vmin =activation_min, vmax=activation_max, cmap=\"gray\")\n",
    "        elif activation_max != -1:\n",
    "            plt.imshow(activation[0,:,:, featuremap], interpolation=\"nearest\", vmax=activation_max, cmap=\"gray\")\n",
    "        elif activation_min !=-1:\n",
    "            plt.imshow(activation[0,:,:, featuremap], interpolation=\"nearest\", vmin=activation_min, cmap=\"gray\")\n",
    "        else:\n",
    "            plt.imshow(activation[0,:,:, featuremap], interpolation=\"nearest\", cmap=\"gray\")"
   ]
  },
  {
   "cell_type": "code",
   "execution_count": null,
   "metadata": {
    "collapsed": false,
    "deletable": true,
    "editable": true
   },
   "outputs": [],
   "source": [
    "outputFeatureMap('test/1_(1).jpg')"
   ]
  },
  {
   "cell_type": "markdown",
   "metadata": {
    "deletable": true,
    "editable": true
   },
   "source": [
    "### Question 9\n",
    "\n",
    "Discuss how you used the visual output of your trained network's feature maps to show that it had learned to look for interesting characteristics in traffic sign images\n"
   ]
  },
  {
   "cell_type": "markdown",
   "metadata": {
    "deletable": true,
    "editable": true
   },
   "source": [
    "**Answer:**"
   ]
  },
  {
   "cell_type": "markdown",
   "metadata": {
    "deletable": true,
    "editable": true
   },
   "source": [
    "> **Note**: Once you have completed all of the code implementations and successfully answered each question above, you may finalize your work by exporting the iPython Notebook as an HTML document. You can do this by using the menu above and navigating to  \\n\",\n",
    "    \"**File -> Download as -> HTML (.html)**. Include the finished document along with this notebook as your submission."
   ]
  },
  {
   "cell_type": "markdown",
   "metadata": {
    "deletable": true,
    "editable": true
   },
   "source": [
    "### Project Writeup\n",
    "\n",
    "Once you have completed the code implementation, document your results in a project writeup using this [template](https://github.com/udacity/CarND-Traffic-Sign-Classifier-Project/blob/master/writeup_template.md) as a guide. The writeup can be in a markdown or pdf file. "
   ]
  }
 ],
 "metadata": {
  "anaconda-cloud": {},
  "kernelspec": {
   "display_name": "Python 3",
   "language": "python",
   "name": "python3"
  },
  "language_info": {
   "codemirror_mode": {
    "name": "ipython",
    "version": 3
   },
   "file_extension": ".py",
   "mimetype": "text/x-python",
   "name": "python",
   "nbconvert_exporter": "python",
   "pygments_lexer": "ipython3",
   "version": "3.5.2"
  },
  "widgets": {
   "state": {},
   "version": "1.1.2"
  }
 },
 "nbformat": 4,
 "nbformat_minor": 1
}
