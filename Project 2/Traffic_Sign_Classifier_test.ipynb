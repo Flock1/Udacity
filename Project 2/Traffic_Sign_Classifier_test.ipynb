{
 "cells": [
  {
   "cell_type": "markdown",
   "metadata": {
    "deletable": true,
    "editable": true
   },
   "source": [
    "# Self-Driving Car Engineer Nanodegree\n",
    "\n",
    "## Deep Learning\n",
    "\n",
    "## Project: Build a Traffic Sign Recognition Classifier\n",
    "\n",
    "In this notebook, a template is provided for you to implement your functionality in stages, which is required to successfully complete this project. If additional code is required that cannot be included in the notebook, be sure that the Python code is successfully imported and included in your submission if necessary. \n",
    "\n",
    "> **Note**: Once you have completed all of the code implementations, you need to finalize your work by exporting the iPython Notebook as an HTML document. Before exporting the notebook to html, all of the code cells need to have been run so that reviewers can see the final implementation and output. You can then export the notebook by using the menu above and navigating to  \\n\",\n",
    "    \"**File -> Download as -> HTML (.html)**. Include the finished document along with this notebook as your submission. \n",
    "\n",
    "In addition to implementing code, there is a writeup to complete. The writeup should be completed in a separate file, which can be either a markdown file or a pdf document. There is a [write up template](https://github.com/udacity/CarND-Traffic-Sign-Classifier-Project/blob/master/writeup_template.md) that can be used to guide the writing process. Completing the code template and writeup template will cover all of the [rubric points](https://review.udacity.com/#!/rubrics/481/view) for this project.\n",
    "\n",
    "The [rubric](https://review.udacity.com/#!/rubrics/481/view) contains \"Stand Out Suggestions\" for enhancing the project beyond the minimum requirements. The stand out suggestions are optional. If you decide to pursue the \"stand out suggestions\", you can include the code in this Ipython notebook and also discuss the results in the writeup file.\n",
    "\n",
    "\n",
    ">**Note:** Code and Markdown cells can be executed using the **Shift + Enter** keyboard shortcut. In addition, Markdown cells can be edited by typically double-clicking the cell to enter edit mode."
   ]
  },
  {
   "cell_type": "markdown",
   "metadata": {
    "deletable": true,
    "editable": true
   },
   "source": [
    "---\n",
    "## Step 0: Load The Data"
   ]
  },
  {
   "cell_type": "code",
   "execution_count": 3,
   "metadata": {
    "collapsed": false,
    "deletable": true,
    "editable": true
   },
   "outputs": [],
   "source": [
    "import pickle\n",
    "import matplotlib.pyplot as plt\n",
    "import cv2\n",
    "import numpy as np\n",
    "from sklearn.utils import shuffle\n",
    "import tensorflow as tf\n",
    "from tensorflow.contrib.layers import flatten\n",
    "from math import ceil\n",
    "from glob import glob\n",
    "\n",
    "# -----------------------------------------------------------------\n",
    "# Load data\n",
    "def loadData(directory):\n",
    "    training_file = directory + 'train.p'\n",
    "    validation_file = directory + 'valid.p'\n",
    "    testing_file = directory + 'test.p'\n",
    "\n",
    "    with open(training_file, mode='rb') as f:\n",
    "        train = pickle.load(f)\n",
    "    with open(validation_file, mode='rb') as f:\n",
    "        valid = pickle.load(f)\n",
    "    with open(testing_file, mode='rb') as f:\n",
    "        test = pickle.load(f)\n",
    "\n",
    "    return train, valid, test\n",
    "\n",
    "train, valid, test = loadData('traffic-signs-data/')\n",
    "X_train, y_train = train['features'], train['labels']\n",
    "X_valid, y_valid = valid['features'], valid['labels']\n",
    "X_test, y_test = test['features'], test['labels']"
   ]
  },
  {
   "cell_type": "markdown",
   "metadata": {
    "deletable": true,
    "editable": true
   },
   "source": [
    "---\n",
    "\n",
    "## Step 1: Dataset Summary & Exploration\n",
    "\n",
    "The pickled data is a dictionary with 4 key/value pairs:\n",
    "\n",
    "- `'features'` is a 4D array containing raw pixel data of the traffic sign images, (num examples, width, height, channels).\n",
    "- `'labels'` is a 1D array containing the label/class id of the traffic sign. The file `signnames.csv` contains id -> name mappings for each id.\n",
    "- `'sizes'` is a list containing tuples, (width, height) representing the original width and height the image.\n",
    "- `'coords'` is a list containing tuples, (x1, y1, x2, y2) representing coordinates of a bounding box around the sign in the image. **THESE COORDINATES ASSUME THE ORIGINAL IMAGE. THE PICKLED DATA CONTAINS RESIZED VERSIONS (32 by 32) OF THESE IMAGES**\n",
    "\n",
    "Complete the basic data summary below. Use python, numpy and/or pandas methods to calculate the data summary rather than hard coding the results. For example, the [pandas shape method](http://pandas.pydata.org/pandas-docs/stable/generated/pandas.DataFrame.shape.html) might be useful for calculating some of the summary results. "
   ]
  },
  {
   "cell_type": "markdown",
   "metadata": {
    "deletable": true,
    "editable": true
   },
   "source": [
    "### Provide a Basic Summary of the Data Set Using Python, Numpy and/or Pandas"
   ]
  },
  {
   "cell_type": "code",
   "execution_count": 4,
   "metadata": {
    "collapsed": false,
    "deletable": true,
    "editable": true
   },
   "outputs": [
    {
     "name": "stdout",
     "output_type": "stream",
     "text": [
      "Number of training examples = 34799\n",
      "Number of testing examples = 12630\n",
      "Image data shape = [32, 32]\n",
      "Number of classes = 43\n"
     ]
    }
   ],
   "source": [
    "# Number of training examples\n",
    "n_train = X_train.shape[0]\n",
    "\n",
    "# Number of testing examples.\n",
    "n_test = X_test.shape[0]\n",
    "\n",
    "# Shape of an traffic sign image.\n",
    "image_shape = [X_train.shape[1], X_train.shape[2]]\n",
    "\n",
    "# Number of unique classes/labels in the dataset.\n",
    "n_classes = np.max(train['labels'] + 1)\n",
    "\n",
    "print(\"Number of training examples =\", n_train)\n",
    "print(\"Number of testing examples =\", n_test)\n",
    "print(\"Image data shape =\", image_shape)\n",
    "print(\"Number of classes =\", n_classes)"
   ]
  },
  {
   "cell_type": "markdown",
   "metadata": {
    "deletable": true,
    "editable": true
   },
   "source": [
    "### Include an exploratory visualization of the dataset"
   ]
  },
  {
   "cell_type": "markdown",
   "metadata": {
    "deletable": true,
    "editable": true
   },
   "source": [
    "Visualize the German Traffic Signs Dataset using the pickled file(s). This is open ended, suggestions include: plotting traffic sign images, plotting the count of each sign, etc.\n",
    "\n",
    "The [Matplotlib](http://matplotlib.org/) [examples](http://matplotlib.org/examples/index.html) and [gallery](http://matplotlib.org/gallery.html) pages are a great resource for doing visualizations in Python.\n",
    "\n",
    "**NOTE:** It's recommended you start with something simple first. If you wish to do more, come back to it after you've completed the rest of the sections."
   ]
  },
  {
   "cell_type": "code",
   "execution_count": 11,
   "metadata": {
    "collapsed": false,
    "deletable": true,
    "editable": true
   },
   "outputs": [
    {
     "name": "stdout",
     "output_type": "stream",
     "text": [
      "max=30982.5, min=1275.0, mean=7464.896728515625, std=5683.693205934292\n",
      "0 startIndex=28966\n",
      "max=32640.0, min=127.5, mean=15225.039794921875, std=10856.353876416957\n",
      "1 startIndex=21930\n",
      "max=9052.5, min=765.0, mean=3904.84521484375, std=851.5385435085237\n",
      "2 startIndex=33697\n",
      "max=32640.0, min=2932.5, mean=17185.3564453125, std=8303.112335471938\n",
      "3 startIndex=22932\n"
     ]
    },
    {
     "data": {
      "image/png": "[encoded data removed]",
      "text/plain": [
       "<matplotlib.figure.Figure at 0x1646edb00>"
      ]
     },
     "metadata": {},
     "output_type": "display_data"
    }
   ],
   "source": [
    "# Visualizations will be shown in the notebook.\n",
    "%matplotlib inline\n",
    "\n",
    "# =====================================================================================================\n",
    "# DATA INSPECTION\n",
    "# =====================================================================================================\n",
    "# -----------------------------------------------------------------\n",
    "# Normalize the pixel value to (-1,1)\n",
    "#\n",
    "# param    data        The data to be normalized\n",
    "# param    inputMin     The minimum value of the input before normalization\n",
    "# param    inputMax     The maximum value of the input before normalization\n",
    "# param    outputMin    The minimum value of the output after normalization\n",
    "# param    outputMax    The maximum value of the output after normalization\n",
    "# returns               The normalized value\n",
    "#\n",
    "def minMaxNormalize(data, inputMin, inputMax, outputMin, outputMax):\n",
    "    return outputMin + ((data - inputMin) * (outputMax - outputMin)) / (inputMax - inputMin)\n",
    "\n",
    "# -----------------------------------------------------------------\n",
    "# Display a grid of images\n",
    "#\n",
    "# param     imageSet        The set of all images to pull from\n",
    "# param     indices         The indices of the images to display\n",
    "# param     fileName        Name of the image to save\n",
    "# param     numCols         The number of columns in the grid\n",
    "# param     bNormalized     True if the imageset is normalized to (-1,1)\n",
    "#\n",
    "def displayImageGrid(imageSet, indices, fileName, numCols=10, bNormalized=True):\n",
    "    numImages = len(indices)\n",
    "    numRows = ceil(numImages/numCols)\n",
    "    rows = []\n",
    "    for i in range(numRows):\n",
    "        imageRow = []\n",
    "        for j in range(numCols):\n",
    "            idx = i*numCols + j\n",
    "            if (idx >= numImages):\n",
    "                imageRow.append(np.zeros([32,32,1]))\n",
    "            else:\n",
    "                image = imageSet[indices[idx]]\n",
    "                if bNormalized:\n",
    "                    image = minMaxNormalize(image, -1., 1., 0., 255.)\n",
    "                imageRow.append(image)\n",
    "        rows.append(np.hstack(imageRow))\n",
    "\n",
    "    output = np.vstack(rows)\n",
    "    cv2.imwrite('visualization/' + fileName, output)\n",
    "    cv2.imshow(fileName, output)\n",
    "\n",
    "# -----------------------------------------------------------------\n",
    "# Visualize the dataSet\n",
    "#\n",
    "# param     bDataDist               Create a histogram of the data set distribution\n",
    "# param     bRandomImage            Display a randomImage\n",
    "# param     bCompareProcessing      Compare the source image to the processed images\n",
    "#\n",
    "def inspectData(bDataDist=False, bRandomImage=False, bCompareProcessing=False):\n",
    "    train, valid, test = loadData('traffic-signs-data/')\n",
    "    if bDataDist:\n",
    "        # plot the number of images in each class\n",
    "        plt.hist(train['labels'], 43, alpha=0.5, label='train')\n",
    "        plt.hist(valid['labels'], 43, alpha=0.5, label='valid')\n",
    "        plt.savefig('visualization/histogram.png')\n",
    "    if bRandomImage:\n",
    "        randomImage = train['features'][np.random.randint(0, train['features'].shape[0])]\n",
    "        plt.imsave('visualization/randomImage.png', randomImage)\n",
    "    if bCompareProcessing:\n",
    "        pretrain, pvalid, ptest = loadData('preprocess/')\n",
    "        numCols = 10\n",
    "        numRows = 4\n",
    "        orig_rows = []\n",
    "        proc_rows = []\n",
    "        for i in range(numRows):\n",
    "            startIndex = np.random.randint(0, pretrain['features'].shape[0])\n",
    "            orig_rows.append(np.hstack(train['features'][startIndex:startIndex+numCols]))\n",
    "\n",
    "            pImages = minMaxNormalize(pretrain['features'][startIndex:startIndex+numCols], -1., 1., 0., 255.)\n",
    "            print('max={}, min={}, mean={}, std={}'.format(np.max(pImages), np.min(pImages),\n",
    "                                                           np.mean(pImages), np.std(pImages)))\n",
    "            proc_rows.append(np.hstack(pImages))\n",
    "            print(\"{} startIndex={}\".format(i, startIndex))\n",
    "\n",
    "        orig = np.vstack(orig_rows)\n",
    "        proc = np.vstack(proc_rows)\n",
    "        cv2.imwrite('visualization/orig.png', orig)\n",
    "        cv2.imwrite('visualization/proc.png', proc)\n",
    "        \n",
    "inspectData(bDataDist=True, bRandomImage=True, bCompareProcessing=True)"
   ]
  },
  {
   "cell_type": "markdown",
   "metadata": {
    "deletable": true,
    "editable": true
   },
   "source": [
    "----\n",
    "\n",
    "## Step 2: Design and Test a Model Architecture\n",
    "\n",
    "Design and implement a deep learning model that learns to recognize traffic signs. Train and test your model on the [German Traffic Sign Dataset](http://benchmark.ini.rub.de/?section=gtsrb&subsection=dataset).\n",
    "\n",
    "The LeNet-5 implementation shown in the [classroom](https://classroom.udacity.com/nanodegrees/nd013/parts/fbf77062-5703-404e-b60c-95b78b2f3f9e/modules/6df7ae49-c61c-4bb2-a23e-6527e69209ec/lessons/601ae704-1035-4287-8b11-e2c2716217ad/concepts/d4aca031-508f-4e0b-b493-e7b706120f81) at the end of the CNN lesson is a solid starting point. You'll have to change the number of classes and possibly the preprocessing, but aside from that it's plug and play! \n",
    "\n",
    "With the LeNet-5 solution from the lecture, you should expect a validation set accuracy of about 0.89. To meet specifications, the validation set accuracy will need to be at least 0.93. It is possible to get an even higher accuracy, but 0.93 is the minimum for a successful project submission. \n",
    "\n",
    "There are various aspects to consider when thinking about this problem:\n",
    "\n",
    "- Neural network architecture (is the network over or underfitting?)\n",
    "- Play around preprocessing techniques (normalization, rgb to grayscale, etc)\n",
    "- Number of examples per label (some have more than others).\n",
    "- Generate fake data.\n",
    "\n",
    "Here is an example of a [published baseline model on this problem](http://yann.lecun.com/exdb/publis/pdf/sermanet-ijcnn-11.pdf). It's not required to be familiar with the approach used in the paper but, it's good practice to try to read papers like these."
   ]
  },
  {
   "cell_type": "markdown",
   "metadata": {
    "deletable": true,
    "editable": true
   },
   "source": [
    "### Pre-process the Data Set (normalization, grayscale, etc.)"
   ]
  },
  {
   "cell_type": "markdown",
   "metadata": {
    "deletable": true,
    "editable": true
   },
   "source": [
    "Use the code cell (or multiple code cells, if necessary) to implement the first step of your project."
   ]
  },
  {
   "cell_type": "code",
   "execution_count": 13,
   "metadata": {
    "collapsed": false,
    "deletable": true,
    "editable": true
   },
   "outputs": [
    {
     "name": "stdout",
     "output_type": "stream",
     "text": [
      "dataSetSize=51839\n",
      "trainStart:0 trainEnd:31103 trainSize=31103\n",
      "validStart:31104 validEnd:41472 validSize=10368\n",
      "testStart:41473 testEnd:51838 testSize=10365\n",
      "Preprocessing training set\n",
      "Preprocessing validation set\n",
      "Preprocessing test set\n",
      "Preprocessing completed\n"
     ]
    }
   ],
   "source": [
    "# =====================================================================================================\n",
    "# DATA PREPROCESSING\n",
    "# =====================================================================================================\n",
    "\n",
    "# -----------------------------------------------------------------\n",
    "# Convert the image to grayscale\n",
    "#\n",
    "# param    img      The img to convert\n",
    "# param    bPlot    True, to plot the image\n",
    "# returns           The grayscaled image\n",
    "#\n",
    "def grayscale(img, bPlot=False):\n",
    "    gray = cv2.cvtColor(img, cv2.COLOR_RGB2GRAY)\n",
    "    if (bPlot):\n",
    "        plt.imshow(gray, cmap='gray')\n",
    "    return gray\n",
    "\n",
    "# -----------------------------------------------------------------\n",
    "# Apply Canny Edge Transform\n",
    "#\n",
    "# param    img              The img to convert\n",
    "# param    low_threshold    Low value threshold to include\n",
    "# returns  high_threshold   High value threshold to include\n",
    "#\n",
    "def canny(img, low_threshold, high_threshold):\n",
    "    return cv2.Canny(img, low_threshold, high_threshold)\n",
    "\n",
    "# -----------------------------------------------------------------\n",
    "# Preprocess a single image and return the result\n",
    "#\n",
    "def preprocessImage(image):\n",
    "    # make sure the image is 32x32\n",
    "    scaleFactorY = 32. / image.shape[0]\n",
    "    scaleFactorX = 32. / image.shape[1]\n",
    "    resized = cv2.resize(image, None, fx=scaleFactorX, fy=scaleFactorY, interpolation=cv2.INTER_AREA)\n",
    "    gray = grayscale(resized)\n",
    "    equ = cv2.equalizeHist(gray).reshape(32,32,1)\n",
    "    normalized = minMaxNormalize(equ, 0., 255., -1., 1.)\n",
    "    return normalized\n",
    "\n",
    "# -----------------------------------------------------------------\n",
    "# Preprocess a set of images\n",
    "# First grayscale\n",
    "# apply histogram equalization\n",
    "# Then normalize the pixel values between (-1, 1)\n",
    "#\n",
    "# param     data            The data to be preprocessed\n",
    "# param     outfileName     The name of the file to save the processed data to\n",
    "# return                    The processed data\n",
    "def preprocessImages(data, outfileName=''):\n",
    "    X, y = data['features'], data['labels']\n",
    "    newX = np.empty([X.shape[0], X.shape[1], X.shape[2], 1])\n",
    "\n",
    "    # Convert all of the images to grayscale\n",
    "    for i, img in enumerate(X):\n",
    "        gray = grayscale(img)\n",
    "        equ = cv2.equalizeHist(gray).reshape(32,32,1)\n",
    "        newX[i] = equ\n",
    "\n",
    "    # Normalize the images between (-1, 1)\n",
    "    newX = minMaxNormalize(newX, 0., 255., -1., 1.)\n",
    "\n",
    "    newData = {'features': newX, 'labels': y}\n",
    "\n",
    "    # Save the processed data to disk\n",
    "    if (len(outfileName) > 0):\n",
    "        pickle.dump(newData, open(\"preprocess/\" + outfileName, \"wb\"))\n",
    "\n",
    "    return newData\n",
    "\n",
    "# Rotate an image randomly\n",
    "#\n",
    "# param    img            The image to rotate\n",
    "# param    maxRotation    The maximum allowed rotation\n",
    "# returns                 The rotated image\n",
    "def rotateRandom(img, maxRotation):\n",
    "    rows = img.shape[0]\n",
    "    cols = img.shape[1]\n",
    "    rotation = np.random.rand() * 2 * maxRotation - maxRotation\n",
    "    # print(\"rotation={}\".format(rotation))\n",
    "    M = cv2.getRotationMatrix2D((cols / 2, rows / 2), rotation, 1)\n",
    "    dst = cv2.warpAffine(img, M, (cols, rows))\n",
    "    return dst\n",
    "\n",
    "# Add a random amount of brightness to the image\n",
    "#\n",
    "# param     img             The image to brighten\n",
    "# param     maxBrightness   The maxmimum amount of brightness to apply\n",
    "# returns                   The brightened image\n",
    "#\n",
    "def brighten(img, maxBrightness):\n",
    "    tempImg = cv2.cvtColor(img,cv2.COLOR_RGB2HSV)\n",
    "    tempImg.astype(dtype=np.float64)\n",
    "    brightnessValue = np.random.rand() * maxBrightness\n",
    "    tempImg[:,:,2] = tempImg[:,:,2]*brightnessValue\n",
    "    # Clamp to no bigger than 255\n",
    "    tempImg[:,:,2][tempImg[:,:,2]>255] = 255\n",
    "    tempImg.astype(dtype=np.uint8)\n",
    "    return cv2.cvtColor(tempImg,cv2.COLOR_HSV2RGB)\n",
    "\n",
    "# Augment the training set to add more variation\n",
    "#\n",
    "# param     features      The training set of features to be augmented\n",
    "# returns                 The augmented set\n",
    "#\n",
    "def augmentData(features):\n",
    "    for i, feature in enumerate(features):\n",
    "        feature = rotateRandom(feature, 30)\n",
    "        feature = brighten(feature, .5)\n",
    "        features[i] = feature\n",
    "    return features\n",
    "\n",
    "# ---------------------------------------------------------------------\n",
    "# Given train, validation and test datasets\n",
    "# Combine them into one set\n",
    "# Shuffle them randomly\n",
    "# And split back into train, validation and test sets\n",
    "#\n",
    "def combineAndSplit(train, valid, test):\n",
    "    # Combine\n",
    "    totalFeatures = np.concatenate([train['features'], valid['features'], test['features']])\n",
    "    totalLabels = np.concatenate([train['labels'], valid['labels'], test['labels']])\n",
    "\n",
    "    # Shuffle\n",
    "    randFeatures, randLabels = shuffle(totalFeatures, totalLabels)\n",
    "\n",
    "    # Split\n",
    "\n",
    "    # test 60%\n",
    "    dataSetSize = len(randFeatures)\n",
    "    print(\"dataSetSize={}\".format(dataSetSize))\n",
    "    trainStartIdx = 0\n",
    "    trainEndIdx = round(dataSetSize * .6)\n",
    "    newTrainFeatures = randFeatures[trainStartIdx:trainEndIdx]\n",
    "    newTrainLabels = randLabels[trainStartIdx:trainEndIdx]\n",
    "    newTrain = {'features': newTrainFeatures, 'labels': newTrainLabels}\n",
    "    print('trainStart:{} trainEnd:{} trainSize={}'.format(trainStartIdx, trainEndIdx, len(newTrainFeatures)))\n",
    "\n",
    "    # Valid 20%\n",
    "    validStartIdx = trainEndIdx + 1\n",
    "    validEndIdx = validStartIdx + round(dataSetSize * .2)\n",
    "    newValidFeatures = randFeatures[validStartIdx:validEndIdx]\n",
    "    newValidLabels = randLabels[validStartIdx:validEndIdx]\n",
    "    newValid = {'features': newValidFeatures, 'labels': newValidLabels}\n",
    "    print('validStart:{} validEnd:{} validSize={}'.format(validStartIdx, validEndIdx, len(newValidFeatures)))\n",
    "\n",
    "    # Test 20%\n",
    "    testStartIdx = validEndIdx + 1\n",
    "    testEndIdx = dataSetSize - 1\n",
    "    newTestFeatures = randFeatures[testStartIdx:testEndIdx]\n",
    "    newTestLabels = randLabels[testStartIdx:testEndIdx]\n",
    "    newTest = {'features': newTestFeatures, 'labels': newTestLabels}\n",
    "    print('testStart:{} testEnd:{} testSize={}'.format(testStartIdx, testEndIdx, len(newTestFeatures)))\n",
    "\n",
    "    return newTrain, newValid, newTest\n",
    "\n",
    "# ---------------------------------------------------------------------\n",
    "# Preprocess the original data set\n",
    "#\n",
    "def preprocessData():\n",
    "    ptrain, pvalid, ptest = loadData('traffic-signs-data/')\n",
    "    ntrain, nvalid, ntest = combineAndSplit(ptrain, pvalid, ptest)\n",
    "    # ptrain['features'] = augmentData(ptrain['features'])\n",
    "    print(\"Preprocessing training set\")\n",
    "    preprocessImages(ntrain, 'train.p')\n",
    "    print(\"Preprocessing validation set\")\n",
    "    preprocessImages(nvalid, 'valid.p')\n",
    "    print(\"Preprocessing test set\")\n",
    "    preprocessImages(ntest, 'test.p')\n",
    "    print(\"Preprocessing completed\")\n",
    "    \n",
    "preprocessData()"
   ]
  },
  {
   "cell_type": "markdown",
   "metadata": {
    "deletable": true,
    "editable": true
   },
   "source": [
    "### Model Architecture"
   ]
  },
  {
   "cell_type": "code",
   "execution_count": 16,
   "metadata": {
    "collapsed": true,
    "deletable": true,
    "editable": true
   },
   "outputs": [],
   "source": [
    "# =====================================================================================================\n",
    "# NEURAL NETWORK\n",
    "# =====================================================================================================\n",
    "\n",
    "\n",
    "# Create a 2d convolutional layer\n",
    "#\n",
    "# inTensor  : input tensor to this layer\n",
    "# shape     : shape of the layer\n",
    "# stride    : integer value that determines how far to stride each iteration\n",
    "# padding   : string either 'VALID' or 'SAME'\n",
    "# mean      : mean value for random variable initialization\n",
    "# stddev    : standard deviation value for random variable initialization\n",
    "# name      : name of the layer\n",
    "#\n",
    "def conv2d(inTensor, weights, bias, stride, padding, name):\n",
    "    return tf.nn.conv2d(inTensor, weights, strides=[1, stride, stride, 1], padding=padding, name=name) + bias\n",
    "\n",
    "# Create a relu layer\n",
    "#\n",
    "# inTensor  : input tensor to this layer\n",
    "#\n",
    "def relu(inTensor, name):\n",
    "    return tf.nn.relu(inTensor, name=name)\n",
    "\n",
    "# Create a tanh layer\n",
    "#\n",
    "# inTensor  : input tensor to this layer\n",
    "#\n",
    "def tanh(inTensor):\n",
    "    return tf.nn.tanh(inTensor)\n",
    "\n",
    "# Create a sigmoid layer\n",
    "#\n",
    "# inTensor  : input tensor to this layer\n",
    "#\n",
    "def sigmoid(inTensor):\n",
    "    return tf.nn.sigmoid(inTensor)\n",
    "\n",
    "# Create a max pooling layer\n",
    "#\n",
    "# inTensor  : input tensor to this layer\n",
    "# ksize     : size of the pooling layer\n",
    "# stride    : integer value that determines how far to stride each iteration\n",
    "# padding   : string either 'VALID' or 'SAME'\n",
    "#\n",
    "def maxPool(inTensor, ksize, stride, padding):\n",
    "    return tf.nn.max_pool(inTensor, ksize=ksize, strides=[1, stride, stride, 1], padding=padding)\n",
    "\n",
    "# Flatten a tensor\n",
    "#\n",
    "# inTensor  : input tensor to this layer\n",
    "#\n",
    "def flat(inTensor):\n",
    "    return flatten(inTensor)\n",
    "\n",
    "# Create a fully connected layer\n",
    "#\n",
    "# inTensor  : input tensor to this layer\n",
    "# shape     : shape of the layer\n",
    "# mean      : mean value for random variable initialization\n",
    "# stddev    : standard deviation value for random variable initialization\n",
    "#\n",
    "def fullyConnected(inTensor, weights, bias):\n",
    "    return tf.matmul(inTensor, weights) + bias\n",
    "\n",
    "# Create a dropout layer\n",
    "#\n",
    "# inTensor  : input tensor to this layer\n",
    "# dropout   : value to dropout\n",
    "#\n",
    "def dropout(inTensor, dropout):\n",
    "    return tf.nn.dropout(inTensor, dropout)\n",
    "\n",
    "def constructNetwork(x, y, keep_prob, regScalar, learningRate=0.001):\n",
    "    # ----------------------------------------------------------------------------------\n",
    "    # Construct the network\n",
    "    # network = constructNetwork(x, DanNet())\n",
    "    one_hot_y = tf.one_hot(y, n_classes)\n",
    "    mu = 0\n",
    "    sigma = 0.01\n",
    "    # seed the rng to reduce the variation while testing different hyperparameters\n",
    "    # tf.set_random_seed(1234)\n",
    "\n",
    "    weights = {'conv1': tf.Variable(tf.truncated_normal(shape=(5, 5, 1, 16), mean=mu, stddev=sigma)),\n",
    "               'conv2': tf.Variable(tf.truncated_normal(shape=(5, 5, 16, 32), mean=mu, stddev=sigma)),\n",
    "               'conv3': tf.Variable(tf.truncated_normal(shape=(1, 1, 32, 16), mean=mu, stddev=sigma)),\n",
    "               'fc1': tf.Variable(tf.truncated_normal(shape=(400, 120), mean=mu, stddev=sigma)),\n",
    "               # 'fc4': tf.Variable(tf.truncated_normal(shape=(250, 120), mean=mu, stddev=sigma)),\n",
    "               'fc2': tf.Variable(tf.truncated_normal(shape=(120, 84), mean=mu, stddev=sigma)),\n",
    "               'fc3': tf.Variable(tf.truncated_normal(shape=(84, n_classes), mean=mu, stddev=sigma))}\n",
    "    biases = {'conv1': tf.Variable(tf.zeros(16)),\n",
    "              'conv2': tf.Variable(tf.zeros(32)),\n",
    "              'conv3': tf.Variable(tf.zeros(16)),\n",
    "              'fc1': tf.Variable(tf.zeros(120)),\n",
    "              # 'fc4': tf.Variable(tf.zeros(120)),\n",
    "              'fc2': tf.Variable(tf.zeros(84)),\n",
    "              'fc3': tf.Variable(tf.zeros(n_classes))}\n",
    "    # ----------------------------------------------------------------------------------------------------------\n",
    "    # Feature Extraction\n",
    "    # Convolution -> MaxPool -> Convolution -> MaxPool\n",
    "    #\n",
    "    network = conv2d(x, weights['conv1'], biases['conv1'], 1, 'VALID', 'conv1')  # 28x28x16\n",
    "    network = relu(network, 'activate1')\n",
    "    network = maxPool(network, (1, 2, 2, 1), 2, 'VALID')  # 14x14x16\n",
    "    network = dropout(network, keep_prob)\n",
    "\n",
    "    network = conv2d(network, weights['conv2'], biases['conv2'], 1, 'VALID', 'conv2')  # 10x10x32\n",
    "    network = relu(network, 'activate2')\n",
    "    network = maxPool(network, (1, 2, 2, 1), 2, 'VALID')  # 5x5x32\n",
    "    network = dropout(network, keep_prob)\n",
    "\n",
    "    network = conv2d(network, weights['conv3'], biases['conv3'], 1, 'VALID', 'conv3')  # 5x5x16\n",
    "    network = relu(network, 'activate3')\n",
    "\n",
    "    # network = conv2d(network, weights['conv3'], biases['conv3'], 1, 'VALID')    # 5x5x16\n",
    "    # network = dropout(network, keep_prob)\n",
    "\n",
    "    # ----------------------------------------------------------------------------------------------------------\n",
    "    # Classifier\n",
    "    # Flattened Extracted Features -> Fully Connected -> Fully Connected -> Fully Connected (Classifier)\n",
    "    #\n",
    "    network = flat(network)  # 400x1\n",
    "    network = fullyConnected(network, weights['fc1'], biases['fc1'])  # 400x300\n",
    "    network = relu(network, 'activatefc1')\n",
    "    # network = fullyConnected(network, weights['fc4'], biases['fc4'])           # 300x120\n",
    "    # network = relu(network)\n",
    "    network = fullyConnected(network, weights['fc2'], biases['fc2'])  # 120x84\n",
    "    network = relu(network, 'activatefc2')\n",
    "    network = dropout(network, keep_prob)\n",
    "    network = fullyConnected(network, weights['fc3'], biases['fc3'])  # 84x43\n",
    "    # ----------------------------------------------------------------------------------\n",
    "\n",
    "    cross_entropy = tf.nn.softmax_cross_entropy_with_logits(logits=network, labels=one_hot_y, name='cross_entropy')\n",
    "\n",
    "    # Apply l2 regularization to the weights\n",
    "    # to help prevent overfitting\n",
    "    regularization_term = 0\n",
    "    for key, value in weights.items():\n",
    "        regularization_term = regScalar * tf.nn.l2_loss(value)\n",
    "\n",
    "    loss_operation = tf.reduce_mean(cross_entropy + regularization_term)\n",
    "\n",
    "    optimizer = tf.train.AdamOptimizer(learning_rate=learningRate)\n",
    "    trainer = optimizer.minimize(loss_operation, name='trainer')\n",
    "\n",
    "    prediction = tf.argmax(network, 1, name='prediction')\n",
    "    correct_answer = tf.argmax(one_hot_y, 1, name='correct_answer')\n",
    "    correct_prediction = tf.equal(prediction, correct_answer, name='correct_prediction')\n",
    "    accuracy_operation = tf.reduce_mean(tf.cast(correct_prediction, tf.float32), name='accuracy_operation')\n",
    "\n",
    "    return network\n",
    "\n",
    "# -----------------------------------------------------------------\n",
    "# Globals\n",
    "dropOutProb = 0.5\n",
    "regScalarValue = 0.01\n",
    "epochs = 10  \n",
    "batchSize = 128  \n",
    "learningRate = 0.001\n",
    "\n",
    "# -----------------------------------------------------------------------------\n",
    "# Execute code here\n",
    "ptrain, pvalid, ptest = loadData('preprocess/')\n",
    "X_trainp, y_trainp = ptrain['features'], ptrain['labels']\n",
    "X_validp, y_validp = pvalid['features'], pvalid['labels']\n",
    "X_testp, y_testp = ptest['features'], ptest['labels']\n",
    "x = tf.placeholder(tf.float32, (None, 32, 32, 1))\n",
    "y = tf.placeholder(tf.int32, (None))\n",
    "keep_prob = tf.placeholder(tf.float32)\n",
    "regScalar = tf.placeholder(tf.float32)\n",
    "network = constructNetwork(x, y, keep_prob, regScalar, learningRate)"
   ]
  },
  {
   "cell_type": "markdown",
   "metadata": {
    "deletable": true,
    "editable": true
   },
   "source": [
    "### Train, Validate and Test the Model"
   ]
  },
  {
   "cell_type": "markdown",
   "metadata": {
    "deletable": true,
    "editable": true
   },
   "source": [
    "A validation set can be used to assess how well the model is performing. A low accuracy on the training and validation\n",
    "sets imply underfitting. A high accuracy on the training set but low accuracy on the validation set implies overfitting."
   ]
  },
  {
   "cell_type": "code",
   "execution_count": 18,
   "metadata": {
    "collapsed": false,
    "deletable": true,
    "editable": true,
    "scrolled": false
   },
   "outputs": [
    {
     "name": "stdout",
     "output_type": "stream",
     "text": [
      "Training...\n",
      "Params: epochs:10\tbatchSize:128\tlearningRate:0.001\n",
      "\n"
     ]
    },
    {
     "ename": "InvalidArgumentError",
     "evalue": "You must feed a value for placeholder tensor 'Placeholder' with dtype float\n\t [[Node: Placeholder = Placeholder[dtype=DT_FLOAT, shape=[], _device=\"/job:localhost/replica:0/task:0/cpu:0\"]()]]\n\nCaused by op 'Placeholder', defined at:\n  File \"/Users/sarvagyagupta1/anaconda3/anaconda/envs/carnd-term1/lib/python3.5/runpy.py\", line 184, in _run_module_as_main\n    \"__main__\", mod_spec)\n  File \"/Users/sarvagyagupta1/anaconda3/anaconda/envs/carnd-term1/lib/python3.5/runpy.py\", line 85, in _run_code\n    exec(code, run_globals)\n  File \"/Users/sarvagyagupta1/anaconda3/anaconda/envs/carnd-term1/lib/python3.5/site-packages/ipykernel/__main__.py\", line 3, in <module>\n    app.launch_new_instance()\n  File \"/Users/sarvagyagupta1/anaconda3/anaconda/envs/carnd-term1/lib/python3.5/site-packages/traitlets/config/application.py\", line 658, in launch_instance\n    app.start()\n  File \"/Users/sarvagyagupta1/anaconda3/anaconda/envs/carnd-term1/lib/python3.5/site-packages/ipykernel/kernelapp.py\", line 474, in start\n    ioloop.IOLoop.instance().start()\n  File \"/Users/sarvagyagupta1/anaconda3/anaconda/envs/carnd-term1/lib/python3.5/site-packages/zmq/eventloop/ioloop.py\", line 177, in start\n    super(ZMQIOLoop, self).start()\n  File \"/Users/sarvagyagupta1/anaconda3/anaconda/envs/carnd-term1/lib/python3.5/site-packages/tornado/ioloop.py\", line 887, in start\n    handler_func(fd_obj, events)\n  File \"/Users/sarvagyagupta1/anaconda3/anaconda/envs/carnd-term1/lib/python3.5/site-packages/tornado/stack_context.py\", line 275, in null_wrapper\n    return fn(*args, **kwargs)\n  File \"/Users/sarvagyagupta1/anaconda3/anaconda/envs/carnd-term1/lib/python3.5/site-packages/zmq/eventloop/zmqstream.py\", line 440, in _handle_events\n    self._handle_recv()\n  File \"/Users/sarvagyagupta1/anaconda3/anaconda/envs/carnd-term1/lib/python3.5/site-packages/zmq/eventloop/zmqstream.py\", line 472, in _handle_recv\n    self._run_callback(callback, msg)\n  File \"/Users/sarvagyagupta1/anaconda3/anaconda/envs/carnd-term1/lib/python3.5/site-packages/zmq/eventloop/zmqstream.py\", line 414, in _run_callback\n    callback(*args, **kwargs)\n  File \"/Users/sarvagyagupta1/anaconda3/anaconda/envs/carnd-term1/lib/python3.5/site-packages/tornado/stack_context.py\", line 275, in null_wrapper\n    return fn(*args, **kwargs)\n  File \"/Users/sarvagyagupta1/anaconda3/anaconda/envs/carnd-term1/lib/python3.5/site-packages/ipykernel/kernelbase.py\", line 276, in dispatcher\n    return self.dispatch_shell(stream, msg)\n  File \"/Users/sarvagyagupta1/anaconda3/anaconda/envs/carnd-term1/lib/python3.5/site-packages/ipykernel/kernelbase.py\", line 228, in dispatch_shell\n    handler(stream, idents, msg)\n  File \"/Users/sarvagyagupta1/anaconda3/anaconda/envs/carnd-term1/lib/python3.5/site-packages/ipykernel/kernelbase.py\", line 390, in execute_request\n    user_expressions, allow_stdin)\n  File \"/Users/sarvagyagupta1/anaconda3/anaconda/envs/carnd-term1/lib/python3.5/site-packages/ipykernel/ipkernel.py\", line 196, in do_execute\n    res = shell.run_cell(code, store_history=store_history, silent=silent)\n  File \"/Users/sarvagyagupta1/anaconda3/anaconda/envs/carnd-term1/lib/python3.5/site-packages/ipykernel/zmqshell.py\", line 501, in run_cell\n    return super(ZMQInteractiveShell, self).run_cell(*args, **kwargs)\n  File \"/Users/sarvagyagupta1/anaconda3/anaconda/envs/carnd-term1/lib/python3.5/site-packages/IPython/core/interactiveshell.py\", line 2717, in run_cell\n    interactivity=interactivity, compiler=compiler, result=result)\n  File \"/Users/sarvagyagupta1/anaconda3/anaconda/envs/carnd-term1/lib/python3.5/site-packages/IPython/core/interactiveshell.py\", line 2821, in run_ast_nodes\n    if self.run_code(code, result):\n  File \"/Users/sarvagyagupta1/anaconda3/anaconda/envs/carnd-term1/lib/python3.5/site-packages/IPython/core/interactiveshell.py\", line 2881, in run_code\n    exec(code_obj, self.user_global_ns, self.user_ns)\n  File \"<ipython-input-14-cfe2028007c3>\", line 168, in <module>\n    x = tf.placeholder(tf.float32, (None, 32, 32, 1))\n  File \"/Users/sarvagyagupta1/anaconda3/anaconda/envs/carnd-term1/lib/python3.5/site-packages/tensorflow/python/ops/array_ops.py\", line 1587, in placeholder\n    name=name)\n  File \"/Users/sarvagyagupta1/anaconda3/anaconda/envs/carnd-term1/lib/python3.5/site-packages/tensorflow/python/ops/gen_array_ops.py\", line 2043, in _placeholder\n    name=name)\n  File \"/Users/sarvagyagupta1/anaconda3/anaconda/envs/carnd-term1/lib/python3.5/site-packages/tensorflow/python/framework/op_def_library.py\", line 759, in apply_op\n    op_def=op_def)\n  File \"/Users/sarvagyagupta1/anaconda3/anaconda/envs/carnd-term1/lib/python3.5/site-packages/tensorflow/python/framework/ops.py\", line 2240, in create_op\n    original_op=self._default_original_op, op_def=op_def)\n  File \"/Users/sarvagyagupta1/anaconda3/anaconda/envs/carnd-term1/lib/python3.5/site-packages/tensorflow/python/framework/ops.py\", line 1128, in __init__\n    self._traceback = _extract_stack()\n\nInvalidArgumentError (see above for traceback): You must feed a value for placeholder tensor 'Placeholder' with dtype float\n\t [[Node: Placeholder = Placeholder[dtype=DT_FLOAT, shape=[], _device=\"/job:localhost/replica:0/task:0/cpu:0\"]()]]\n",
     "output_type": "error",
     "traceback": [
      "\u001b[0;31m---------------------------------------------------------------------------\u001b[0m",
      "\u001b[0;31mInvalidArgumentError\u001b[0m                      Traceback (most recent call last)",
      "\u001b[0;32m/Users/sarvagyagupta1/anaconda3/anaconda/envs/carnd-term1/lib/python3.5/site-packages/tensorflow/python/client/session.py\u001b[0m in \u001b[0;36m_do_call\u001b[0;34m(self, fn, *args)\u001b[0m\n\u001b[1;32m   1020\u001b[0m     \u001b[0;32mtry\u001b[0m\u001b[0;34m:\u001b[0m\u001b[0;34m\u001b[0m\u001b[0m\n\u001b[0;32m-> 1021\u001b[0;31m       \u001b[0;32mreturn\u001b[0m \u001b[0mfn\u001b[0m\u001b[0;34m(\u001b[0m\u001b[0;34m*\u001b[0m\u001b[0margs\u001b[0m\u001b[0;34m)\u001b[0m\u001b[0;34m\u001b[0m\u001b[0m\n\u001b[0m\u001b[1;32m   1022\u001b[0m     \u001b[0;32mexcept\u001b[0m \u001b[0merrors\u001b[0m\u001b[0;34m.\u001b[0m\u001b[0mOpError\u001b[0m \u001b[0;32mas\u001b[0m \u001b[0me\u001b[0m\u001b[0;34m:\u001b[0m\u001b[0;34m\u001b[0m\u001b[0m\n",
      "\u001b[0;32m/Users/sarvagyagupta1/anaconda3/anaconda/envs/carnd-term1/lib/python3.5/site-packages/tensorflow/python/client/session.py\u001b[0m in \u001b[0;36m_run_fn\u001b[0;34m(session, feed_dict, fetch_list, target_list, options, run_metadata)\u001b[0m\n\u001b[1;32m   1002\u001b[0m                                  \u001b[0mfeed_dict\u001b[0m\u001b[0;34m,\u001b[0m \u001b[0mfetch_list\u001b[0m\u001b[0;34m,\u001b[0m \u001b[0mtarget_list\u001b[0m\u001b[0;34m,\u001b[0m\u001b[0;34m\u001b[0m\u001b[0m\n\u001b[0;32m-> 1003\u001b[0;31m                                  status, run_metadata)\n\u001b[0m\u001b[1;32m   1004\u001b[0m \u001b[0;34m\u001b[0m\u001b[0m\n",
      "\u001b[0;32m/Users/sarvagyagupta1/anaconda3/anaconda/envs/carnd-term1/lib/python3.5/contextlib.py\u001b[0m in \u001b[0;36m__exit__\u001b[0;34m(self, type, value, traceback)\u001b[0m\n\u001b[1;32m     65\u001b[0m             \u001b[0;32mtry\u001b[0m\u001b[0;34m:\u001b[0m\u001b[0;34m\u001b[0m\u001b[0m\n\u001b[0;32m---> 66\u001b[0;31m                 \u001b[0mnext\u001b[0m\u001b[0;34m(\u001b[0m\u001b[0mself\u001b[0m\u001b[0;34m.\u001b[0m\u001b[0mgen\u001b[0m\u001b[0;34m)\u001b[0m\u001b[0;34m\u001b[0m\u001b[0m\n\u001b[0m\u001b[1;32m     67\u001b[0m             \u001b[0;32mexcept\u001b[0m \u001b[0mStopIteration\u001b[0m\u001b[0;34m:\u001b[0m\u001b[0;34m\u001b[0m\u001b[0m\n",
      "\u001b[0;32m/Users/sarvagyagupta1/anaconda3/anaconda/envs/carnd-term1/lib/python3.5/site-packages/tensorflow/python/framework/errors_impl.py\u001b[0m in \u001b[0;36mraise_exception_on_not_ok_status\u001b[0;34m()\u001b[0m\n\u001b[1;32m    468\u001b[0m           \u001b[0mcompat\u001b[0m\u001b[0;34m.\u001b[0m\u001b[0mas_text\u001b[0m\u001b[0;34m(\u001b[0m\u001b[0mpywrap_tensorflow\u001b[0m\u001b[0;34m.\u001b[0m\u001b[0mTF_Message\u001b[0m\u001b[0;34m(\u001b[0m\u001b[0mstatus\u001b[0m\u001b[0;34m)\u001b[0m\u001b[0;34m)\u001b[0m\u001b[0;34m,\u001b[0m\u001b[0;34m\u001b[0m\u001b[0m\n\u001b[0;32m--> 469\u001b[0;31m           pywrap_tensorflow.TF_GetCode(status))\n\u001b[0m\u001b[1;32m    470\u001b[0m   \u001b[0;32mfinally\u001b[0m\u001b[0;34m:\u001b[0m\u001b[0;34m\u001b[0m\u001b[0m\n",
      "\u001b[0;31mInvalidArgumentError\u001b[0m: You must feed a value for placeholder tensor 'Placeholder' with dtype float\n\t [[Node: Placeholder = Placeholder[dtype=DT_FLOAT, shape=[], _device=\"/job:localhost/replica:0/task:0/cpu:0\"]()]]",
      "\nDuring handling of the above exception, another exception occurred:\n",
      "\u001b[0;31mInvalidArgumentError\u001b[0m                      Traceback (most recent call last)",
      "\u001b[0;32m<ipython-input-18-1f105c987ba4>\u001b[0m in \u001b[0;36m<module>\u001b[0;34m()\u001b[0m\n\u001b[1;32m     75\u001b[0m \u001b[0;34m\u001b[0m\u001b[0m\n\u001b[1;32m     76\u001b[0m \u001b[0;34m\u001b[0m\u001b[0m\n\u001b[0;32m---> 77\u001b[0;31m \u001b[0mtrainNetwork\u001b[0m\u001b[0;34m(\u001b[0m\u001b[0mepochs\u001b[0m\u001b[0;34m,\u001b[0m \u001b[0mbatchSize\u001b[0m\u001b[0;34m,\u001b[0m \u001b[0mlearningRate\u001b[0m\u001b[0;34m)\u001b[0m\u001b[0;34m\u001b[0m\u001b[0m\n\u001b[0m",
      "\u001b[0;32m<ipython-input-18-1f105c987ba4>\u001b[0m in \u001b[0;36mtrainNetwork\u001b[0;34m(epochs, batchSize, learningRate)\u001b[0m\n\u001b[1;32m     38\u001b[0m                 \u001b[0mend\u001b[0m \u001b[0;34m=\u001b[0m \u001b[0moffset\u001b[0m \u001b[0;34m+\u001b[0m \u001b[0mbatchSize\u001b[0m\u001b[0;34m\u001b[0m\u001b[0m\n\u001b[1;32m     39\u001b[0m                 \u001b[0mbatch_x\u001b[0m\u001b[0;34m,\u001b[0m \u001b[0mbatch_y\u001b[0m \u001b[0;34m=\u001b[0m \u001b[0mX_train_shuffle\u001b[0m\u001b[0;34m[\u001b[0m\u001b[0moffset\u001b[0m\u001b[0;34m:\u001b[0m\u001b[0mend\u001b[0m\u001b[0;34m]\u001b[0m\u001b[0;34m,\u001b[0m \u001b[0my_train_shuffle\u001b[0m\u001b[0;34m[\u001b[0m\u001b[0moffset\u001b[0m\u001b[0;34m:\u001b[0m\u001b[0mend\u001b[0m\u001b[0;34m]\u001b[0m\u001b[0;34m\u001b[0m\u001b[0m\n\u001b[0;32m---> 40\u001b[0;31m                 \u001b[0msess\u001b[0m\u001b[0;34m.\u001b[0m\u001b[0mrun\u001b[0m\u001b[0;34m(\u001b[0m\u001b[0mtrainer\u001b[0m\u001b[0;34m,\u001b[0m \u001b[0mfeed_dict\u001b[0m\u001b[0;34m=\u001b[0m\u001b[0;34m{\u001b[0m\u001b[0mx\u001b[0m\u001b[0;34m:\u001b[0m \u001b[0mbatch_x\u001b[0m\u001b[0;34m,\u001b[0m \u001b[0my\u001b[0m\u001b[0;34m:\u001b[0m \u001b[0mbatch_y\u001b[0m\u001b[0;34m,\u001b[0m \u001b[0mkeep_prob\u001b[0m\u001b[0;34m:\u001b[0m \u001b[0mdropOutProb\u001b[0m\u001b[0;34m,\u001b[0m \u001b[0mregScalar\u001b[0m\u001b[0;34m:\u001b[0m \u001b[0mregScalarValue\u001b[0m\u001b[0;34m}\u001b[0m\u001b[0;34m)\u001b[0m\u001b[0;34m\u001b[0m\u001b[0m\n\u001b[0m\u001b[1;32m     41\u001b[0m \u001b[0;34m\u001b[0m\u001b[0m\n\u001b[1;32m     42\u001b[0m             \u001b[0;31m# Calculate accuracy at this point\u001b[0m\u001b[0;34m\u001b[0m\u001b[0;34m\u001b[0m\u001b[0m\n",
      "\u001b[0;32m/Users/sarvagyagupta1/anaconda3/anaconda/envs/carnd-term1/lib/python3.5/site-packages/tensorflow/python/client/session.py\u001b[0m in \u001b[0;36mrun\u001b[0;34m(self, fetches, feed_dict, options, run_metadata)\u001b[0m\n\u001b[1;32m    764\u001b[0m     \u001b[0;32mtry\u001b[0m\u001b[0;34m:\u001b[0m\u001b[0;34m\u001b[0m\u001b[0m\n\u001b[1;32m    765\u001b[0m       result = self._run(None, fetches, feed_dict, options_ptr,\n\u001b[0;32m--> 766\u001b[0;31m                          run_metadata_ptr)\n\u001b[0m\u001b[1;32m    767\u001b[0m       \u001b[0;32mif\u001b[0m \u001b[0mrun_metadata\u001b[0m\u001b[0;34m:\u001b[0m\u001b[0;34m\u001b[0m\u001b[0m\n\u001b[1;32m    768\u001b[0m         \u001b[0mproto_data\u001b[0m \u001b[0;34m=\u001b[0m \u001b[0mtf_session\u001b[0m\u001b[0;34m.\u001b[0m\u001b[0mTF_GetBuffer\u001b[0m\u001b[0;34m(\u001b[0m\u001b[0mrun_metadata_ptr\u001b[0m\u001b[0;34m)\u001b[0m\u001b[0;34m\u001b[0m\u001b[0m\n",
      "\u001b[0;32m/Users/sarvagyagupta1/anaconda3/anaconda/envs/carnd-term1/lib/python3.5/site-packages/tensorflow/python/client/session.py\u001b[0m in \u001b[0;36m_run\u001b[0;34m(self, handle, fetches, feed_dict, options, run_metadata)\u001b[0m\n\u001b[1;32m    962\u001b[0m     \u001b[0;32mif\u001b[0m \u001b[0mfinal_fetches\u001b[0m \u001b[0;32mor\u001b[0m \u001b[0mfinal_targets\u001b[0m\u001b[0;34m:\u001b[0m\u001b[0;34m\u001b[0m\u001b[0m\n\u001b[1;32m    963\u001b[0m       results = self._do_run(handle, final_targets, final_fetches,\n\u001b[0;32m--> 964\u001b[0;31m                              feed_dict_string, options, run_metadata)\n\u001b[0m\u001b[1;32m    965\u001b[0m     \u001b[0;32melse\u001b[0m\u001b[0;34m:\u001b[0m\u001b[0;34m\u001b[0m\u001b[0m\n\u001b[1;32m    966\u001b[0m       \u001b[0mresults\u001b[0m \u001b[0;34m=\u001b[0m \u001b[0;34m[\u001b[0m\u001b[0;34m]\u001b[0m\u001b[0;34m\u001b[0m\u001b[0m\n",
      "\u001b[0;32m/Users/sarvagyagupta1/anaconda3/anaconda/envs/carnd-term1/lib/python3.5/site-packages/tensorflow/python/client/session.py\u001b[0m in \u001b[0;36m_do_run\u001b[0;34m(self, handle, target_list, fetch_list, feed_dict, options, run_metadata)\u001b[0m\n\u001b[1;32m   1012\u001b[0m     \u001b[0;32mif\u001b[0m \u001b[0mhandle\u001b[0m \u001b[0;32mis\u001b[0m \u001b[0;32mNone\u001b[0m\u001b[0;34m:\u001b[0m\u001b[0;34m\u001b[0m\u001b[0m\n\u001b[1;32m   1013\u001b[0m       return self._do_call(_run_fn, self._session, feed_dict, fetch_list,\n\u001b[0;32m-> 1014\u001b[0;31m                            target_list, options, run_metadata)\n\u001b[0m\u001b[1;32m   1015\u001b[0m     \u001b[0;32melse\u001b[0m\u001b[0;34m:\u001b[0m\u001b[0;34m\u001b[0m\u001b[0m\n\u001b[1;32m   1016\u001b[0m       return self._do_call(_prun_fn, self._session, handle, feed_dict,\n",
      "\u001b[0;32m/Users/sarvagyagupta1/anaconda3/anaconda/envs/carnd-term1/lib/python3.5/site-packages/tensorflow/python/client/session.py\u001b[0m in \u001b[0;36m_do_call\u001b[0;34m(self, fn, *args)\u001b[0m\n\u001b[1;32m   1032\u001b[0m         \u001b[0;32mexcept\u001b[0m \u001b[0mKeyError\u001b[0m\u001b[0;34m:\u001b[0m\u001b[0;34m\u001b[0m\u001b[0m\n\u001b[1;32m   1033\u001b[0m           \u001b[0;32mpass\u001b[0m\u001b[0;34m\u001b[0m\u001b[0m\n\u001b[0;32m-> 1034\u001b[0;31m       \u001b[0;32mraise\u001b[0m \u001b[0mtype\u001b[0m\u001b[0;34m(\u001b[0m\u001b[0me\u001b[0m\u001b[0;34m)\u001b[0m\u001b[0;34m(\u001b[0m\u001b[0mnode_def\u001b[0m\u001b[0;34m,\u001b[0m \u001b[0mop\u001b[0m\u001b[0;34m,\u001b[0m \u001b[0mmessage\u001b[0m\u001b[0;34m)\u001b[0m\u001b[0;34m\u001b[0m\u001b[0m\n\u001b[0m\u001b[1;32m   1035\u001b[0m \u001b[0;34m\u001b[0m\u001b[0m\n\u001b[1;32m   1036\u001b[0m   \u001b[0;32mdef\u001b[0m \u001b[0m_extend_graph\u001b[0m\u001b[0;34m(\u001b[0m\u001b[0mself\u001b[0m\u001b[0;34m)\u001b[0m\u001b[0;34m:\u001b[0m\u001b[0;34m\u001b[0m\u001b[0m\n",
      "\u001b[0;31mInvalidArgumentError\u001b[0m: You must feed a value for placeholder tensor 'Placeholder' with dtype float\n\t [[Node: Placeholder = Placeholder[dtype=DT_FLOAT, shape=[], _device=\"/job:localhost/replica:0/task:0/cpu:0\"]()]]\n\nCaused by op 'Placeholder', defined at:\n  File \"/Users/sarvagyagupta1/anaconda3/anaconda/envs/carnd-term1/lib/python3.5/runpy.py\", line 184, in _run_module_as_main\n    \"__main__\", mod_spec)\n  File \"/Users/sarvagyagupta1/anaconda3/anaconda/envs/carnd-term1/lib/python3.5/runpy.py\", line 85, in _run_code\n    exec(code, run_globals)\n  File \"/Users/sarvagyagupta1/anaconda3/anaconda/envs/carnd-term1/lib/python3.5/site-packages/ipykernel/__main__.py\", line 3, in <module>\n    app.launch_new_instance()\n  File \"/Users/sarvagyagupta1/anaconda3/anaconda/envs/carnd-term1/lib/python3.5/site-packages/traitlets/config/application.py\", line 658, in launch_instance\n    app.start()\n  File \"/Users/sarvagyagupta1/anaconda3/anaconda/envs/carnd-term1/lib/python3.5/site-packages/ipykernel/kernelapp.py\", line 474, in start\n    ioloop.IOLoop.instance().start()\n  File \"/Users/sarvagyagupta1/anaconda3/anaconda/envs/carnd-term1/lib/python3.5/site-packages/zmq/eventloop/ioloop.py\", line 177, in start\n    super(ZMQIOLoop, self).start()\n  File \"/Users/sarvagyagupta1/anaconda3/anaconda/envs/carnd-term1/lib/python3.5/site-packages/tornado/ioloop.py\", line 887, in start\n    handler_func(fd_obj, events)\n  File \"/Users/sarvagyagupta1/anaconda3/anaconda/envs/carnd-term1/lib/python3.5/site-packages/tornado/stack_context.py\", line 275, in null_wrapper\n    return fn(*args, **kwargs)\n  File \"/Users/sarvagyagupta1/anaconda3/anaconda/envs/carnd-term1/lib/python3.5/site-packages/zmq/eventloop/zmqstream.py\", line 440, in _handle_events\n    self._handle_recv()\n  File \"/Users/sarvagyagupta1/anaconda3/anaconda/envs/carnd-term1/lib/python3.5/site-packages/zmq/eventloop/zmqstream.py\", line 472, in _handle_recv\n    self._run_callback(callback, msg)\n  File \"/Users/sarvagyagupta1/anaconda3/anaconda/envs/carnd-term1/lib/python3.5/site-packages/zmq/eventloop/zmqstream.py\", line 414, in _run_callback\n    callback(*args, **kwargs)\n  File \"/Users/sarvagyagupta1/anaconda3/anaconda/envs/carnd-term1/lib/python3.5/site-packages/tornado/stack_context.py\", line 275, in null_wrapper\n    return fn(*args, **kwargs)\n  File \"/Users/sarvagyagupta1/anaconda3/anaconda/envs/carnd-term1/lib/python3.5/site-packages/ipykernel/kernelbase.py\", line 276, in dispatcher\n    return self.dispatch_shell(stream, msg)\n  File \"/Users/sarvagyagupta1/anaconda3/anaconda/envs/carnd-term1/lib/python3.5/site-packages/ipykernel/kernelbase.py\", line 228, in dispatch_shell\n    handler(stream, idents, msg)\n  File \"/Users/sarvagyagupta1/anaconda3/anaconda/envs/carnd-term1/lib/python3.5/site-packages/ipykernel/kernelbase.py\", line 390, in execute_request\n    user_expressions, allow_stdin)\n  File \"/Users/sarvagyagupta1/anaconda3/anaconda/envs/carnd-term1/lib/python3.5/site-packages/ipykernel/ipkernel.py\", line 196, in do_execute\n    res = shell.run_cell(code, store_history=store_history, silent=silent)\n  File \"/Users/sarvagyagupta1/anaconda3/anaconda/envs/carnd-term1/lib/python3.5/site-packages/ipykernel/zmqshell.py\", line 501, in run_cell\n    return super(ZMQInteractiveShell, self).run_cell(*args, **kwargs)\n  File \"/Users/sarvagyagupta1/anaconda3/anaconda/envs/carnd-term1/lib/python3.5/site-packages/IPython/core/interactiveshell.py\", line 2717, in run_cell\n    interactivity=interactivity, compiler=compiler, result=result)\n  File \"/Users/sarvagyagupta1/anaconda3/anaconda/envs/carnd-term1/lib/python3.5/site-packages/IPython/core/interactiveshell.py\", line 2821, in run_ast_nodes\n    if self.run_code(code, result):\n  File \"/Users/sarvagyagupta1/anaconda3/anaconda/envs/carnd-term1/lib/python3.5/site-packages/IPython/core/interactiveshell.py\", line 2881, in run_code\n    exec(code_obj, self.user_global_ns, self.user_ns)\n  File \"<ipython-input-14-cfe2028007c3>\", line 168, in <module>\n    x = tf.placeholder(tf.float32, (None, 32, 32, 1))\n  File \"/Users/sarvagyagupta1/anaconda3/anaconda/envs/carnd-term1/lib/python3.5/site-packages/tensorflow/python/ops/array_ops.py\", line 1587, in placeholder\n    name=name)\n  File \"/Users/sarvagyagupta1/anaconda3/anaconda/envs/carnd-term1/lib/python3.5/site-packages/tensorflow/python/ops/gen_array_ops.py\", line 2043, in _placeholder\n    name=name)\n  File \"/Users/sarvagyagupta1/anaconda3/anaconda/envs/carnd-term1/lib/python3.5/site-packages/tensorflow/python/framework/op_def_library.py\", line 759, in apply_op\n    op_def=op_def)\n  File \"/Users/sarvagyagupta1/anaconda3/anaconda/envs/carnd-term1/lib/python3.5/site-packages/tensorflow/python/framework/ops.py\", line 2240, in create_op\n    original_op=self._default_original_op, op_def=op_def)\n  File \"/Users/sarvagyagupta1/anaconda3/anaconda/envs/carnd-term1/lib/python3.5/site-packages/tensorflow/python/framework/ops.py\", line 1128, in __init__\n    self._traceback = _extract_stack()\n\nInvalidArgumentError (see above for traceback): You must feed a value for placeholder tensor 'Placeholder' with dtype float\n\t [[Node: Placeholder = Placeholder[dtype=DT_FLOAT, shape=[], _device=\"/job:localhost/replica:0/task:0/cpu:0\"]()]]\n"
     ]
    }
   ],
   "source": [
    "# --------------------------------------------------------------------------------------------------------\n",
    "# Calculate the accuracy of the model\n",
    "#\n",
    "def evaluate(X_data, y_data, accuracy_operation, x, y, keep_prob, regScalar, batchSize):\n",
    "    num_examples = len(X_data)\n",
    "    total_accuracy = 0\n",
    "    sess = tf.get_default_session()\n",
    "    for offset in range(0, num_examples, batchSize):\n",
    "        batch_x, batch_y = X_data[offset:offset+batchSize], y_data[offset:offset+batchSize]\n",
    "        accuracy = sess.run(accuracy_operation, feed_dict={x: batch_x, y: batch_y, keep_prob: 1.0, regScalar: 0.0})\n",
    "        total_accuracy += (accuracy * len(batch_x))\n",
    "    return total_accuracy / num_examples\n",
    "\n",
    "# -----------------------------------------------------------------\n",
    "# Train a neural net\n",
    "#\n",
    "def trainNetwork(epochs, batchSize, learningRate):\n",
    "    saver = tf.train.Saver()\n",
    "\n",
    "    with tf.Session() as sess:\n",
    "        sess.run(tf.global_variables_initializer())\n",
    "        trainer = sess.graph.get_operation_by_name('trainer')\n",
    "        accuracy_operation = sess.graph.get_tensor_by_name('accuracy_operation:0')\n",
    "\n",
    "        num_examples = len(X_trainp)\n",
    "        print(\"Training...\")\n",
    "        print(\"Params: epochs:{}\\tbatchSize:{}\\tlearningRate:{}\".format(epochs, batchSize, learningRate))\n",
    "        print()\n",
    "        train_plot = []\n",
    "        valid_plot = []\n",
    "        test_plot = []\n",
    "        train_accuracy = 0.\n",
    "        validation_accuracy = 0.\n",
    "        test_accuracy = 0.\n",
    "        for i in range(epochs):\n",
    "            X_train_shuffle, y_train_shuffle = shuffle(X_trainp, y_trainp)\n",
    "            for offset in range(0, num_examples, batchSize):\n",
    "                end = offset + batchSize\n",
    "                batch_x, batch_y = X_train_shuffle[offset:end], y_train_shuffle[offset:end]\n",
    "                sess.run(trainer, feed_dict={x: batch_x, y: batch_y, keep_prob: dropOutProb, regScalar: regScalarValue})\n",
    "\n",
    "            # Calculate accuracy at this point\n",
    "            # on the training set\n",
    "            # and the validation set\n",
    "            train_accuracy = evaluate(X_trainp, y_trainp, accuracy_operation, x, y, keep_prob, regScalar, batchSize)\n",
    "            train_plot.append(train_accuracy)\n",
    "            validation_accuracy = evaluate(X_validp, y_validp, accuracy_operation, x, y, keep_prob, regScalar, batchSize)\n",
    "            valid_plot.append(validation_accuracy)\n",
    "            test_accuracy = evaluate(X_testp, y_testp, accuracy_operation, x, y, keep_prob, regScalar, batchSize)\n",
    "            test_plot.append(test_accuracy)\n",
    "            print(\"EPOCH {} ...\".format(i + 1))\n",
    "            print(\"Accuracy Training = {:.3f}  Validation = {:.3f}  Test = {:.3f}\\n\".format(train_accuracy, validation_accuracy, test_accuracy))\n",
    "\n",
    "        # Generate the learning curve plot\n",
    "        x_axis = np.arange(0, epochs, 1)\n",
    "        fig, ax = plt.subplots(1)\n",
    "        ax.plot(x_axis, train_plot, lw=2, label='train', color='blue')\n",
    "        ax.plot(x_axis, valid_plot, lw=1, label='valid', color='red', ls='--')\n",
    "        ax.plot(x_axis, valid_plot, lw=1, label='test', color='green', ls='--')\n",
    "        ax.legend(loc='upper left')\n",
    "        ax.set_xlabel('Iterations')\n",
    "        ax.set_ylabel('Accuracy')\n",
    "        plt.title(\"Params: epochs:{}    batchSize:{}    learningRate:{}\".format(epochs, batchSize, learningRate))\n",
    "        ax.text(0.95, 0.01, \"train:{:.3f}   valid:{:.3f}   test:{:.3f}\".format(train_accuracy, validation_accuracy, test_accuracy),\n",
    "                verticalalignment='bottom', horizontalalignment='right',\n",
    "                transform=ax.transAxes,\n",
    "                color='green', fontsize=15)\n",
    "        pltFileName = 'visualization/plots/Accuracy.png'\n",
    "        plt.savefig(pltFileName)\n",
    "        print(\"Plot saved in {}\".format(pltFileName))\n",
    "\n",
    "        # Save the model\n",
    "        saver.save(sess, 'models/lenet')\n",
    "        print(\"Model saved\")\n",
    "\n",
    "\n",
    "trainNetwork(epochs, batchSize, learningRate)"
   ]
  },
  {
   "cell_type": "markdown",
   "metadata": {
    "deletable": true,
    "editable": true
   },
   "source": [
    "---\n",
    "\n",
    "## Step 3: Test a Model on New Images\n",
    "\n",
    "To give yourself more insight into how your model is working, download at least five pictures of German traffic signs from the web and use your model to predict the traffic sign type.\n",
    "\n",
    "You may find `signnames.csv` useful as it contains mappings from the class id (integer) to the actual sign name."
   ]
  },
  {
   "cell_type": "markdown",
   "metadata": {
    "deletable": true,
    "editable": true
   },
   "source": [
    "### Load and Output the Images"
   ]
  },
  {
   "cell_type": "code",
   "execution_count": 7,
   "metadata": {
    "collapsed": true,
    "deletable": true,
    "editable": true
   },
   "outputs": [],
   "source": [
    "### Load the images and plot them here.\n",
    "### Feel free to use as many code cells as needed.\n",
    "\n",
    "# =====================================================================================================\n",
    "# PREDICTION\n",
    "# =====================================================================================================\n",
    "# ----------------------------------------------------------------\n",
    "# Load and return the test images\n",
    "#\n",
    "def loadTestImages():\n",
    "    fileNames = glob('testImages/*.png')\n",
    "    fileNames.sort()\n",
    "\n",
    "    images = []\n",
    "    for fileName in fileNames:\n",
    "        print(\"fileName= {}\".format(fileName))\n",
    "        imageName = fileName[:-3]\n",
    "        img = cv2.imread(fileName)\n",
    "        images.append(img)\n",
    "    return images\n",
    "\n",
    "# ----------------------------------------------------------------\n",
    "# Given a set of images\n",
    "# Classify them\n",
    "#\n",
    "def classifyImages(images, labels):\n",
    "\n",
    "    # Preprocess the images\n",
    "    processedImages = []\n",
    "    for image in images:\n",
    "        processedImages.append(preprocessImage(image))\n",
    "\n",
    "    displayImageGrid(processedImages, np.arange(0, len(images)), \"testImages.png\", len(images))\n",
    "\n",
    "    saver = tf.train.Saver();\n",
    "    with tf.Session() as sess:\n",
    "#         sess.run(tf.global_variables_initializer())\n",
    "        saver.restore(sess, 'models/lenet')\n",
    "        prediction = sess.graph.get_tensor_by_name('prediction:0')\n",
    "        correct_answer = sess.graph.get_tensor_by_name('correct_answer:0')\n",
    "        correct_prediction = sess.graph.get_tensor_by_name('correct_prediction:0')\n",
    "        accuracy_operation = sess.graph.get_tensor_by_name('accuracy_operation:0')\n",
    "\n",
    "        pred = sess.run(prediction, feed_dict={x: processedImages, y:labels, keep_prob: 1.0, regScalar: 0.0})\n",
    "        #print(\"Predictions:{}\".format(pred))\n",
    "        answer = sess.run(correct_answer, feed_dict={y: labels, keep_prob: 1.0, regScalar: 0.0})\n",
    "        #print(\"Answers:{}\".format(answer))\n",
    "        correct = sess.run(correct_prediction,\n",
    "                           feed_dict={x: processedImages, y: labels, keep_prob: 1.0, regScalar: 0})\n",
    "        #print(\"Correct:{}\".format(correct))\n",
    "        accuracy = sess.run(accuracy_operation,\n",
    "                            feed_dict={x: processedImages, y: labels, keep_prob: 1.0, regScalar: 0.0})\n",
    "        #print(\"Accuracy: {:.0f}%\".format(accuracy * 100.))\n",
    "        softmax = sess.run(tf.nn.top_k(tf.nn.softmax(network), k=5),\n",
    "                           feed_dict={x: processedImages, y: labels, keep_prob: 1.0, regScalar: 0.0})\n",
    "        #print(\"Softmax: {}\".format(softmax))\n",
    "        return pred, accuracy, softmax"
   ]
  },
  {
   "cell_type": "markdown",
   "metadata": {
    "deletable": true,
    "editable": true
   },
   "source": [
    "### Predict the Sign Type for Each Image"
   ]
  },
  {
   "cell_type": "code",
   "execution_count": 8,
   "metadata": {
    "collapsed": false,
    "deletable": true,
    "editable": true
   },
   "outputs": [
    {
     "name": "stdout",
     "output_type": "stream",
     "text": [
      "fileName= testImages/bike.png\n",
      "fileName= testImages/childrenCrossing.png\n",
      "fileName= testImages/keepRight.png\n",
      "fileName= testImages/noEntry.png\n",
      "fileName= testImages/yield.png\n",
      "Predictions:[12 34 32 31 13]\n"
     ]
    }
   ],
   "source": [
    "### Run the predictions here and use the model to output the prediction for each image.\n",
    "### Make sure to pre-process the images with the same pre-processing pipeline used earlier.\n",
    "### Feel free to use as many code cells as needed.\n",
    "pred, accuracy, softmax = classifyImages(loadTestImages(), [29, 28, 38, 17,13])\n",
    "print(\"Predictions:{}\".format(pred))"
   ]
  },
  {
   "cell_type": "markdown",
   "metadata": {
    "deletable": true,
    "editable": true
   },
   "source": [
    "### Analyze Performance"
   ]
  },
  {
   "cell_type": "code",
   "execution_count": 9,
   "metadata": {
    "collapsed": false,
    "deletable": true,
    "editable": true
   },
   "outputs": [
    {
     "name": "stdout",
     "output_type": "stream",
     "text": [
      "Accuracy: 20%\n"
     ]
    }
   ],
   "source": [
    "### Calculate the accuracy for these 5 new images. \n",
    "### For example, if the model predicted 1 out of 5 signs correctly, it's 20% accurate on these new images.\n",
    "# pred, accuracy, softmax = classifyImages(loadTestImages(), [3, 1, 14, 27, 13])\n",
    "print(\"Accuracy: {:.0f}%\".format(accuracy * 100.))"
   ]
  },
  {
   "cell_type": "markdown",
   "metadata": {
    "deletable": true,
    "editable": true
   },
   "source": [
    "### Output Top 5 Softmax Probabilities For Each Image Found on the Web"
   ]
  },
  {
   "cell_type": "markdown",
   "metadata": {
    "deletable": true,
    "editable": true
   },
   "source": [
    "For each of the new images, print out the model's softmax probabilities to show the **certainty** of the model's predictions (limit the output to the top 5 probabilities for each image). [`tf.nn.top_k`](https://www.tensorflow.org/versions/r0.12/api_docs/python/nn.html#top_k) could prove helpful here. \n",
    "\n",
    "The example below demonstrates how tf.nn.top_k can be used to find the top k predictions for each image.\n",
    "\n",
    "`tf.nn.top_k` will return the values and indices (class ids) of the top k predictions. So if k=3, for each sign, it'll return the 3 largest probabilities (out of a possible 43) and the correspoding class ids.\n",
    "\n",
    "Take this numpy array as an example. The values in the array represent predictions. The array contains softmax probabilities for five candidate images with six possible classes. `tk.nn.top_k` is used to choose the three classes with the highest probability:\n",
    "\n",
    "```\n",
    "# (5, 6) array\n",
    "a = np.array([[ 0.24879643,  0.07032244,  0.12641572,  0.34763842,  0.07893497,\n",
    "         0.12789202],\n",
    "       [ 0.28086119,  0.27569815,  0.08594638,  0.0178669 ,  0.18063401,\n",
    "         0.15899337],\n",
    "       [ 0.26076848,  0.23664738,  0.08020603,  0.07001922,  0.1134371 ,\n",
    "         0.23892179],\n",
    "       [ 0.11943333,  0.29198961,  0.02605103,  0.26234032,  0.1351348 ,\n",
    "         0.16505091],\n",
    "       [ 0.09561176,  0.34396535,  0.0643941 ,  0.16240774,  0.24206137,\n",
    "         0.09155967]])\n",
    "```\n",
    "\n",
    "Running it through `sess.run(tf.nn.top_k(tf.constant(a), k=3))` produces:\n",
    "\n",
    "```\n",
    "TopKV2(values=array([[ 0.34763842,  0.24879643,  0.12789202],\n",
    "       [ 0.28086119,  0.27569815,  0.18063401],\n",
    "       [ 0.26076848,  0.23892179,  0.23664738],\n",
    "       [ 0.29198961,  0.26234032,  0.16505091],\n",
    "       [ 0.34396535,  0.24206137,  0.16240774]]), indices=array([[3, 0, 5],\n",
    "       [0, 1, 4],\n",
    "       [0, 5, 1],\n",
    "       [1, 3, 5],\n",
    "       [1, 4, 3]], dtype=int32))\n",
    "```\n",
    "\n",
    "Looking just at the first row we get `[ 0.34763842,  0.24879643,  0.12789202]`, you can confirm these are the 3 largest probabilities in `a`. You'll also notice `[3, 0, 5]` are the corresponding indices."
   ]
  },
  {
   "cell_type": "code",
   "execution_count": 10,
   "metadata": {
    "collapsed": false,
    "deletable": true,
    "editable": true
   },
   "outputs": [
    {
     "name": "stdout",
     "output_type": "stream",
     "text": [
      "Softmax: TopKV2(values=array([[  4.90283012e-01,   3.20957035e-01,   1.70503899e-01,\n",
      "          5.65979537e-03,   4.49624145e-03],\n",
      "       [  9.97328758e-01,   1.37547299e-03,   4.77697060e-04,\n",
      "          4.16335621e-04,   3.71784699e-04],\n",
      "       [  2.50656933e-01,   1.75195128e-01,   1.33379862e-01,\n",
      "          1.25588819e-01,   7.85648227e-02],\n",
      "       [  2.87274987e-01,   2.44165152e-01,   6.45578578e-02,\n",
      "          5.19448705e-02,   4.26192544e-02],\n",
      "       [  9.89703834e-01,   5.95089886e-03,   4.27805306e-03,\n",
      "          5.61258203e-05,   3.36155881e-06]], dtype=float32), indices=array([[12, 17, 14, 33, 15],\n",
      "       [34, 35, 38, 30, 20],\n",
      "       [32, 18, 11, 28, 12],\n",
      "       [31, 20, 30, 23, 10],\n",
      "       [13, 12, 14,  1,  4]], dtype=int32))\n"
     ]
    }
   ],
   "source": [
    "### Print out the top five softmax probabilities for the predictions on the German traffic sign images found on the web. \n",
    "### Feel free to use as many code cells as needed.\n",
    "# pred, accuracy, softmax = classifyImages(loadTestImages(), [3, 1, 14, 27, 13])\n",
    "print(\"Softmax: {}\".format(softmax))"
   ]
  },
  {
   "cell_type": "markdown",
   "metadata": {
    "collapsed": false,
    "deletable": true,
    "editable": true
   },
   "source": [
    "# Step 4: Visualize the Neural Network's State with Test Images\n",
    "\n",
    " This Section is not required to complete but acts as an additional excersise for understaning the output of a neural network's weights. While neural networks can be a great learning device they are often referred to as a black box. We can understand what the weights of a neural network look like better by plotting their feature maps. After successfully training your neural network you can see what it's feature maps look like by plotting the output of the network's weight layers in response to a test stimuli image. From these plotted feature maps, it's possible to see what characteristics of an image the network finds interesting. For a sign, maybe the inner network feature maps react with high activation to the sign's boundary outline or to the contrast in the sign's painted symbol.\n",
    "\n",
    " Provided for you below is the function code that allows you to get the visualization output of any tensorflow weight layer you want. The inputs to the function should be a stimuli image, one used during training or a new one you provided, and then the tensorflow variable name that represents the layer's state during the training process, for instance if you wanted to see what the [LeNet lab's](https://classroom.udacity.com/nanodegrees/nd013/parts/fbf77062-5703-404e-b60c-95b78b2f3f9e/modules/6df7ae49-c61c-4bb2-a23e-6527e69209ec/lessons/601ae704-1035-4287-8b11-e2c2716217ad/concepts/d4aca031-508f-4e0b-b493-e7b706120f81) feature maps looked like for it's second convolutional layer you could enter conv2 as the tf_activation variable.\n",
    "\n",
    "For an example of what feature map outputs look like, check out NVIDIA's results in their paper [End-to-End Deep Learning for Self-Driving Cars](https://devblogs.nvidia.com/parallelforall/deep-learning-self-driving-cars/) in the section Visualization of internal CNN State. NVIDIA was able to show that their network's inner weights had high activations to road boundary lines by comparing feature maps from an image with a clear path to one without. Try experimenting with a similar test to show that your trained network's weights are looking for interesting features, whether it's looking at differences in feature maps from images with or without a sign, or even what feature maps look like in a trained network vs a completely untrained one on the same sign image.\n",
    "\n",
    "<figure>\n",
    " <img src=\"visualize_cnn.png\" width=\"380\" alt=\"Combined Image\" />\n",
    " <figcaption>\n",
    " <p></p> \n",
    " <p style=\"text-align: center;\"> Your output should look something like this (above)</p> \n",
    " </figcaption>\n",
    "</figure>\n",
    " <p></p>"
   ]
  },
  {
   "cell_type": "code",
   "execution_count": 11,
   "metadata": {
    "collapsed": false,
    "deletable": true,
    "editable": true
   },
   "outputs": [
    {
     "name": "stdout",
     "output_type": "stream",
     "text": [
      "FeatureMaps saved in visualization/featureMaps/activate1:0.png\n"
     ]
    },
    {
     "data": {
      "image/png": "[encoded data removed]",
      "text/plain": [
       "<matplotlib.figure.Figure at 0x7f4f40a0a438>"
      ]
     },
     "metadata": {},
     "output_type": "display_data"
    }
   ],
   "source": [
    "# ------------------------------------------------------------------------------------------\n",
    "# Outputs the feature maps for a particular image\n",
    "#\n",
    "# param     image           The image to get feature maps for\n",
    "# param     featureMaps     Array of feature maps to get\n",
    "#\n",
    "def outputFeatureMap(image, featureMaps, activation_min=-1, activation_max=-1, plt_num=1):\n",
    "\n",
    "    with tf.Session() as sess:\n",
    "        sess.run(tf.global_variables_initializer())\n",
    "        plt.imsave('visualization/featureMaps/featureMapOrig.png', image.reshape(32, 32))\n",
    "        for featureName in featureMaps:\n",
    "            tf_activation = sess.graph.get_tensor_by_name(featureName)\n",
    "            activation = tf_activation.eval(session=sess, feed_dict={x: [image], keep_prob: dropOutProb,\n",
    "                                                                     regScalar: regScalarValue})\n",
    "            featuremaps = activation.shape[-1]\n",
    "            plt.figure(plt_num, figsize=(15, 15))\n",
    "            for featuremap in range(featuremaps):\n",
    "                plt.subplot(6, 8, featuremap + 1)  # sets the number of feature maps to show on each row and column\n",
    "                plt.title('' + str(featuremap))  # displays the feature map number\n",
    "                if activation_min != -1 & activation_max != -1:\n",
    "                    plt.imshow(activation[0, :, :, featuremap], interpolation=\"nearest\", vmin=activation_min,\n",
    "                               vmax=activation_max, cmap=\"gray\")\n",
    "                elif activation_max != -1:\n",
    "                    plt.imshow(activation[0, :, :, featuremap], interpolation=\"nearest\", vmax=activation_max,\n",
    "                               cmap=\"gray\")\n",
    "                elif activation_min != -1:\n",
    "                    plt.imshow(activation[0, :, :, featuremap], interpolation=\"nearest\", vmin=activation_min,\n",
    "                               cmap=\"gray\")\n",
    "                else:\n",
    "                    plt.imshow(activation[0, :, :, featuremap], interpolation=\"nearest\", cmap=\"gray\")\n",
    "            featureMapsFileName = 'visualization/featureMaps/' + featureName + '.png'\n",
    "            plt.savefig(featureMapsFileName)\n",
    "            print(\"FeatureMaps saved in {}\".format(featureMapsFileName))\n",
    "\n",
    "\n",
    "# -----------------------------------------------------------------\n",
    "# Evaluate the missed classifications\n",
    "#\n",
    "def evaluateMisses(testData):\n",
    "    features, labels = testData['features'], testData['labels']\n",
    "\n",
    "    with tf.Session() as sess:\n",
    "        sess.run(tf.global_variables_initializer())\n",
    "        prediction = sess.graph.get_tensor_by_name('prediction:0')\n",
    "        correct_answer = sess.graph.get_tensor_by_name('correct_answer:0')\n",
    "        correct_prediction = sess.graph.get_tensor_by_name('correct_prediction:0')\n",
    "        pred = sess.run(prediction, feed_dict={x: features, keep_prob: 1.0, regScalar: 0.0})\n",
    "        answer = sess.run(correct_answer, feed_dict={y: labels, keep_prob: 1.0, regScalar: 0.0})\n",
    "        correct = sess.run(correct_prediction, feed_dict={x:features, y:labels, keep_prob:1.0, regScalar:0})\n",
    "        incorrectIndices = np.where(correct == False)[0]\n",
    "        # print(\"Prediction:{} Answer:{}\".format(pred, answer))\n",
    "        print(\"Num Incorrect:{}/{}\".format(incorrectIndices.shape, features.shape[0]))\n",
    "        print(\"predictions:{}\".format(pred[incorrectIndices]))\n",
    "        print(\"=====================================================\")\n",
    "        print(\"answers:{}\".format(answer[incorrectIndices]))\n",
    "        print(\"=====================================================\")\n",
    "        print(\"indices:{}\".format(incorrectIndices))\n",
    "\n",
    "        displayImageGrid(features, incorrectIndices, 'incorrectPredictions.png', numCols=12)\n",
    "        \n",
    "# evaluateMisses(validData)\n",
    "outputFeatureMap(X_trainp[0], featureMaps=['activate1:0'])#, 'activate2:0', 'activate3:0'])"
   ]
  },
  {
   "cell_type": "markdown",
   "metadata": {
    "deletable": true,
    "editable": true
   },
   "source": [
    "### Question 9\n",
    "\n",
    "Discuss how you used the visual output of your trained network's feature maps to show that it had learned to look for interesting characteristics in traffic sign images\n"
   ]
  },
  {
   "cell_type": "markdown",
   "metadata": {
    "deletable": true,
    "editable": true
   },
   "source": [
    "I noticed in the first convolution layer that the feature map displayed the mostly the edges of the signs. It closely resembled the the shape of the sign. In the later convolutional layers the feature maps displayed more focused features. For example for the \"end of no passing\" sign you could clearly see a diagonal slash feature represented. Along with some curved edges."
   ]
  },
  {
   "cell_type": "markdown",
   "metadata": {
    "deletable": true,
    "editable": true
   },
   "source": [
    "> **Note**: Once you have completed all of the code implementations and successfully answered each question above, you may finalize your work by exporting the iPython Notebook as an HTML document. You can do this by using the menu above and navigating to  \\n\",\n",
    "    \"**File -> Download as -> HTML (.html)**. Include the finished document along with this notebook as your submission."
   ]
  },
  {
   "cell_type": "markdown",
   "metadata": {
    "deletable": true,
    "editable": true
   },
   "source": [
    "### Project Writeup\n",
    "\n",
    "Once you have completed the code implementation, document your results in a project writeup using this [template](https://github.com/udacity/CarND-Traffic-Sign-Classifier-Project/blob/master/writeup_template.md) as a guide. The writeup can be in a markdown or pdf file. "
   ]
  }
 ],
 "metadata": {
  "anaconda-cloud": {},
  "kernelspec": {
   "display_name": "Python 3",
   "language": "python",
   "name": "python3"
  },
  "language_info": {
   "codemirror_mode": {
    "name": "ipython",
    "version": 3
   },
   "file_extension": ".py",
   "mimetype": "text/x-python",
   "name": "python",
   "nbconvert_exporter": "python",
   "pygments_lexer": "ipython3",
   "version": "3.5.2"
  },
  "widgets": {
   "state": {},
   "version": "1.1.2"
  }
 },
 "nbformat": 4,
 "nbformat_minor": 0
}
